{
 "cells": [
  {
   "cell_type": "code",
   "execution_count": 1,
   "id": "16189a04-4c97-43d1-8bb1-ffd2de7eaf95",
   "metadata": {},
   "outputs": [],
   "source": [
    "import seaborn as sns\n",
    "import pandas as pd\n",
    "\n",
    "import numpy as np\n",
    "import matplotlib.pyplot as plt\n",
    "\n",
    "from matplotlib.pyplot import figure\n",
    "from timeit import default_timer as timer"
   ]
  },
  {
   "cell_type": "code",
   "execution_count": 4,
   "id": "d0fea88a",
   "metadata": {},
   "outputs": [],
   "source": [
    "import pickle\n",
    "def save_data(data, filepath):\n",
    "    \"\"\"Save data to disk using pickle.\"\"\"\n",
    "\n",
    "    with open(filepath, 'wb') as handle:\n",
    "        pickle.dump(data, handle)\n",
    "\n",
    "\n",
    "\n",
    "def load_data(filepath):\n",
    "    \"\"\"Load and return the given pickle file.\"\"\"\n",
    "\n",
    "    with open(filepath, 'rb') as handle:\n",
    "        return pickle.load(handle) "
   ]
  },
  {
   "cell_type": "code",
   "execution_count": 2,
   "id": "ef8c883e-f924-4e0a-8228-0f336e8ccb35",
   "metadata": {},
   "outputs": [
    {
     "name": "stderr",
     "output_type": "stream",
     "text": [
      "/var/folders/2b/j70y4jj16273ghx5d_sknkwm0000gn/T/ipykernel_1953/268045509.py:1: DtypeWarning: Columns (1,34,86,111,116,117,120) have mixed types. Specify dtype option on import or set low_memory=False.\n",
      "  data_df = pd.read_csv(\"../../../../ncs/PaperMaterials/Data/257k_final_relevants_with_all_fields.csv\", index_col=0)\n"
     ]
    }
   ],
   "source": [
    "data_df = pd.read_csv(\"../../../../ncs/PaperMaterials/Data/257k_final_relevants_with_all_fields.csv\", index_col=0)"
   ]
  },
  {
   "cell_type": "markdown",
   "id": "93f515ab-09e1-4acc-815d-1e2fe35fdfa1",
   "metadata": {},
   "source": [
    "## # of authors"
   ]
  },
  {
   "cell_type": "code",
   "execution_count": 3,
   "id": "99ce40ec-0ff8-455c-a1bb-05d61055b188",
   "metadata": {},
   "outputs": [],
   "source": [
    "author_data = data_df[[\"articletitle\", \"authors\", \"authorfullnames\"]]"
   ]
  },
  {
   "cell_type": "markdown",
   "id": "7e71f0f8-0ab6-40fe-b8c3-26e04b4f0422",
   "metadata": {},
   "source": [
    "interesting paper: https://onlinelibrary.wiley.com/doi/10.1111/jvs.12710\n",
    "\n",
    "paper with 506 author: https://www.researchgate.net/publication/332601002_NEOTROPICAL_XENARTHRANS_a_data_set_of_occurrence_of_xenarthran_species_in_the_Neotropics"
   ]
  },
  {
   "cell_type": "code",
   "execution_count": 4,
   "id": "34b9fc30-de39-4e95-b802-36efbe371cd2",
   "metadata": {},
   "outputs": [
    {
     "name": "stdout",
     "output_type": "stream",
     "text": [
      "0\n",
      "100000\n",
      "200000\n"
     ]
    }
   ],
   "source": [
    "authors_dict = dict()\n",
    "for i, uid in enumerate(author_data.index.values):\n",
    "    if i % 100000 == 0: print(i)\n",
    "    current_auth_full_name = author_data.loc[uid, \"authorfullnames\"]\n",
    "    \n",
    "    auths_len = 0\n",
    "    if current_auth_full_name == \"Empty\":\n",
    "        # split with ,\n",
    "        auths_len = len(author_data.loc[uid, \"authors\"].split(\",\"))    \n",
    "    else:\n",
    "        auths_len = len(author_data.loc[uid, \"authors\"].split(\";\"))\n",
    "        \n",
    "    if auths_len in authors_dict:\n",
    "        authors_dict[auths_len] += 1\n",
    "    else:\n",
    "        authors_dict[auths_len] = 1"
   ]
  },
  {
   "cell_type": "code",
   "execution_count": 5,
   "id": "ef6b9c82-6579-493b-9491-175ebca0a2f2",
   "metadata": {},
   "outputs": [],
   "source": [
    "after_first_n = 5\n",
    "authors_other_num = 0\n",
    "\n",
    "sorted_authors = sorted(authors_dict.items(), key=lambda x:x[1], reverse=True)\n",
    "\n",
    "for a in sorted_authors[after_first_n:]:\n",
    "    authors_other_num += a[1]"
   ]
  },
  {
   "cell_type": "code",
   "execution_count": 6,
   "id": "96c0c520-2d75-49d1-9eb1-deac61e70fc8",
   "metadata": {},
   "outputs": [
    {
     "data": {
      "text/plain": [
       "{'1': 24645, '2': 44755, '3': 50713, '4': 44165, '5': 32814, 'Other': 60174}"
      ]
     },
     "execution_count": 6,
     "metadata": {},
     "output_type": "execute_result"
    }
   ],
   "source": [
    "final_num_of_authors = [(str(x[0]), x[1]) for x in sorted_authors[0:after_first_n]] + [(\"Other\", authors_other_num)]\n",
    "author_distribution = dict()\n",
    "for fa in final_num_of_authors:\n",
    "    author_distribution[fa[0]] = fa[1]\n",
    "myKeys = list(author_distribution.keys())\n",
    "myKeys.sort()\n",
    "author_distribution = {i: author_distribution[i] for i in myKeys}\n",
    "author_distribution"
   ]
  },
  {
   "cell_type": "markdown",
   "id": "a4e1f1e2-a3d5-4aab-9939-2b25f9db29db",
   "metadata": {},
   "source": [
    "## Year published distribution"
   ]
  },
  {
   "cell_type": "code",
   "execution_count": 7,
   "id": "134e7c6e-6edc-48eb-8a65-d48c4e668ec1",
   "metadata": {},
   "outputs": [],
   "source": [
    "publication_year_data = data_df[\"publicationyear\"]"
   ]
  },
  {
   "cell_type": "code",
   "execution_count": 8,
   "id": "905ab98c-aee6-4bab-a4a7-4ea71f625a13",
   "metadata": {},
   "outputs": [],
   "source": [
    "pub_year_u, pub_year_v = np.unique(publication_year_data, return_counts=True)"
   ]
  },
  {
   "cell_type": "code",
   "execution_count": 9,
   "id": "75effbe8-80c7-4b38-b442-b1ca05bad72f",
   "metadata": {},
   "outputs": [],
   "source": [
    "year_windows = [1990, 1995, 2000, 2005, 2010, 2015, 2023]"
   ]
  },
  {
   "cell_type": "code",
   "execution_count": 10,
   "id": "f4f4e15e-40c7-4d5f-8395-8bfe1d4a043f",
   "metadata": {},
   "outputs": [],
   "source": [
    "pub_year_nums = []\n",
    "pub_year_nums_dict = {}\n",
    "len_of_y_w = len(year_windows)\n",
    "for i in range(len_of_y_w):\n",
    "    if i == 0:\n",
    "        mask = pub_year_u < year_windows[i]\n",
    "        num = np.sum(pub_year_v[mask])\n",
    "        pub_year_nums.append(num)\n",
    "        pub_year_nums_dict[\"<\" + str(year_windows[i])] = num\n",
    "    else:\n",
    "        mask = (year_windows[i-1] <= pub_year_u) & (pub_year_u < year_windows[i])\n",
    "        num = np.sum(pub_year_v[mask])\n",
    "        pub_year_nums.append(num)\n",
    "        pub_year_nums_dict[str(year_windows[i-1]) + \" - \" + str(year_windows[i]-1)] = num"
   ]
  },
  {
   "cell_type": "code",
   "execution_count": 11,
   "id": "a8ab4f7f-4f85-4fea-ace0-886658a09ebe",
   "metadata": {},
   "outputs": [
    {
     "data": {
      "text/plain": [
       "{'1990 - 1994': 9254,\n",
       " '1995 - 1999': 15559,\n",
       " '2000 - 2004': 22055,\n",
       " '2005 - 2009': 33116,\n",
       " '2010 - 2014': 48549,\n",
       " '2015 - 2022': 128733}"
      ]
     },
     "execution_count": 11,
     "metadata": {},
     "output_type": "execute_result"
    }
   ],
   "source": [
    "publicationyear_distribution = dict()\n",
    "for k,v in pub_year_nums_dict.items():\n",
    "    if k != '<1990':\n",
    "        publicationyear_distribution[k] = v\n",
    "publicationyear_distribution"
   ]
  },
  {
   "cell_type": "markdown",
   "id": "10a34b5e-2b33-429e-9740-434498b3325f",
   "metadata": {},
   "source": [
    "## Disciplines represented --> WoS categories "
   ]
  },
  {
   "cell_type": "code",
   "execution_count": 12,
   "id": "1d885d1c-20c5-46e2-aab2-814daedaf8fb",
   "metadata": {},
   "outputs": [
    {
     "name": "stdout",
     "output_type": "stream",
     "text": [
      "0\n",
      "100000\n",
      "200000\n"
     ]
    }
   ],
   "source": [
    "woscats = dict()\n",
    "for i, uid in enumerate(data_df.index.values):\n",
    "    if i % 100000 == 0: print(i)\n",
    "    current_woscats = data_df.loc[uid, \"woscategories\"].split(\"; \")\n",
    "    for cw in current_woscats:\n",
    "        if cw in woscats:\n",
    "            woscats[cw] += 1\n",
    "        else:\n",
    "            woscats[cw] = 1"
   ]
  },
  {
   "cell_type": "code",
   "execution_count": 13,
   "id": "35ae0195-086b-42be-a5c2-b48ab8ed1e97",
   "metadata": {},
   "outputs": [
    {
     "name": "stdout",
     "output_type": "stream",
     "text": [
      "[('Empty', 72138), ('Environmental Sciences', 40923), ('Ecology', 34111), ('Agronomy', 23472), ('Plant Sciences', 21455), ('Forestry', 17372)]\n"
     ]
    }
   ],
   "source": [
    "sorted_woscats = sorted(woscats.items(), key=lambda x:x[1], reverse=True)\n",
    "print(sorted_woscats[0:6])"
   ]
  },
  {
   "cell_type": "code",
   "execution_count": 14,
   "id": "a207f371-73ed-46bc-8ac3-215b5be9de67",
   "metadata": {},
   "outputs": [],
   "source": [
    "after_first_n = 6\n",
    "woscats_other_num = 0\n",
    "\n",
    "for a in sorted_woscats[after_first_n:]:\n",
    "    woscats_other_num += a[1]"
   ]
  },
  {
   "cell_type": "code",
   "execution_count": 15,
   "id": "ced98ae1",
   "metadata": {},
   "outputs": [
    {
     "data": {
      "text/plain": [
       "183505"
      ]
     },
     "execution_count": 15,
     "metadata": {},
     "output_type": "execute_result"
    }
   ],
   "source": [
    "woscats_other_num"
   ]
  },
  {
   "cell_type": "code",
   "execution_count": 16,
   "id": "33f066e3",
   "metadata": {},
   "outputs": [
    {
     "data": {
      "text/plain": [
       "{'Missing': 72138,\n",
       " 'Environmental Sciences': 40923,\n",
       " 'Ecology': 34111,\n",
       " 'Agronomy': 23472,\n",
       " 'Plant Sciences': 21455,\n",
       " 'Forestry': 17372,\n",
       " 'Other': 183505}"
      ]
     },
     "execution_count": 16,
     "metadata": {},
     "output_type": "execute_result"
    }
   ],
   "source": [
    "disciplines_distribution = dict()\n",
    "for sw in sorted_woscats[0:6]:\n",
    "    if sw[0] == 'Empty':\n",
    "        disciplines_distribution['Missing'] = sw[1]\n",
    "    else:\n",
    "        disciplines_distribution[sw[0]] = sw[1]\n",
    "disciplines_distribution['Other'] = woscats_other_num\n",
    "disciplines_distribution"
   ]
  },
  {
   "cell_type": "markdown",
   "id": "6eb15aca",
   "metadata": {},
   "source": [
    "### NCS Pathways [Three Bars: Protect, Manage, Restore]"
   ]
  },
  {
   "cell_type": "code",
   "execution_count": 17,
   "id": "1659a2ad",
   "metadata": {},
   "outputs": [
    {
     "name": "stdout",
     "output_type": "stream",
     "text": [
      "PROTECT\n",
      "{'Avoided forest conversion': 36996, 'Avoided freshwater wetlands impacts': 13229, 'Avoided coastal wetland impacts & conversion': 21307, 'Avoided grassland, savannas, shrublands conversion': 18550}\n",
      "MANAGE\n",
      "{'Natural forest management': 74643, 'Conservation agriculture': 96749, 'Improved plantations': 24548, 'Improved rice cultivation': 10414, 'Cropland nutrient management': 46046, 'Biochar': 21177, 'Trees in croplands and agroforestry': 12396, 'Fire management': 19517, 'Grazing – animal management': 22111, 'Grazing – improved feed': 10469, 'Avoided/sustainable woodfuel harvest': 4830, 'Grazing – legumes in pastures': 4580, 'Grazing – optimal intensity': 8274}\n",
      "RESTORE\n",
      "{'Grassland restoration and rehabilitation': 20635, 'Forest Reforestation & Rehabilitation': 29125, 'Afforestation': 10011, 'Coastal wetlands restoration & rehabilitation': 25186, 'Freshwater wetlands restoration': 14412}\n"
     ]
    }
   ],
   "source": [
    "pathway_mapping = { \n",
    "                    '1':'Avoided forest conversion',\n",
    "                    '2':'Forest Reforestation & Rehabilitation',\n",
    "                    '3':'Natural forest management',\n",
    "                    '4':'Improved plantations',\n",
    "                    '5':'Fire management',\n",
    "                    '6':'Avoided/sustainable woodfuel harvest',\n",
    "                    '7':'Avoided grassland, savannas, shrublands conversion',\n",
    "                    '8':'Biochar',\n",
    "                    '9':'Cropland nutrient management',\n",
    "                    '10':'Conservation agriculture',\n",
    "                    '11':'Trees in croplands and agroforestry',\n",
    "                    '12':'Grazing – optimal intensity',\n",
    "                    '13':'Grazing – legumes in pastures',\n",
    "                    '14':'Grazing – improved feed',\n",
    "                    '15':'Grazing – animal management',\n",
    "                    '16':'Improved rice cultivation',\n",
    "                    '17':'Avoided coastal wetland impacts & conversion',\n",
    "                    '18':'Avoided freshwater wetlands impacts',\n",
    "                    '19':'Coastal wetlands restoration & rehabilitation',\n",
    "                    '20':'Freshwater wetlands restoration',\n",
    "                    '21':'Grassland restoration and rehabilitation',\n",
    "                    '22':'Afforestation'\n",
    "                  }\n",
    "pathway_numbers = [1,7,17,18,3,4,5,6,8,9,10,11,12,13,14,15,16,2,19,20,21,22]\n",
    "protect_distribution = dict()\n",
    "manage_distribution = dict()\n",
    "restore_distribution = dict()\n",
    "\n",
    "for i, uid in enumerate(data_df.index.values):\n",
    "    predicted_pathways = data_df.loc[uid, 'predicted_pathway_numbers']\n",
    "    for pp in predicted_pathways[2:-2].split('\\', \\''):\n",
    "        if pp == '34': continue\n",
    "        if int(pp) in pathway_numbers[:4]:\n",
    "            if pathway_mapping[pp] in protect_distribution:\n",
    "                protect_distribution[pathway_mapping[pp]] += 1\n",
    "            else:\n",
    "                protect_distribution[pathway_mapping[pp]] = 1\n",
    "        elif int(pp) in pathway_numbers[4:-5]:\n",
    "            if pathway_mapping[pp] in manage_distribution:\n",
    "                manage_distribution[pathway_mapping[pp]] += 1\n",
    "            else:\n",
    "                manage_distribution[pathway_mapping[pp]] = 1\n",
    "        else:\n",
    "            if pathway_mapping[pp] in restore_distribution:\n",
    "                restore_distribution[pathway_mapping[pp]] += 1\n",
    "            else:\n",
    "                restore_distribution[pathway_mapping[pp]] = 1\n",
    "print('PROTECT')\n",
    "print(protect_distribution)\n",
    "print('MANAGE')\n",
    "print(manage_distribution)\n",
    "print('RESTORE')\n",
    "print(restore_distribution)"
   ]
  },
  {
   "cell_type": "markdown",
   "id": "7d76551a",
   "metadata": {},
   "source": [
    "### Cobenefits [One Bar with the groups Biodiversity, Environment, Material HWB Benefits, Non-Material HWB Benefits"
   ]
  },
  {
   "cell_type": "code",
   "execution_count": 18,
   "id": "7ddf2890",
   "metadata": {},
   "outputs": [
    {
     "data": {
      "text/plain": [
       "{'Biodiversity': 131357,\n",
       " 'Environment': 242775,\n",
       " 'Material HWB Benefits': 271046,\n",
       " 'Non-Material HWB Benefits': 87003,\n",
       " 'Health': 17381}"
      ]
     },
     "execution_count": 18,
     "metadata": {},
     "output_type": "execute_result"
    }
   ],
   "source": [
    "cobenefit_letters = ['B','C','D','A','E','F','G','H','I','K','J']\n",
    "cobenefit_distribution = dict()\n",
    "cobenefit_distribution['Biodiversity'] = 0\n",
    "cobenefit_distribution['Environment'] = 0\n",
    "cobenefit_distribution['Material HWB Benefits'] = 0\n",
    "cobenefit_distribution['Non-Material HWB Benefits'] = 0\n",
    "cobenefit_distribution['Health'] = 0\n",
    "\n",
    "for i, uid in enumerate(data_df.index.values):\n",
    "    predicted_cobenefits = data_df.loc[uid, 'predicted_benefits']\n",
    "    for pc in predicted_cobenefits[2:-2].split('\\', \\''):\n",
    "        if pc in cobenefit_letters[:2]:\n",
    "            cobenefit_distribution['Material HWB Benefits'] += 1\n",
    "        elif pc in cobenefit_letters[3]:\n",
    "            cobenefit_distribution['Health'] += 1\n",
    "        elif pc in cobenefit_letters[3:-2]:\n",
    "            cobenefit_distribution['Non-Material HWB Benefits'] += 1\n",
    "        elif pc in cobenefit_letters[-2]:\n",
    "            cobenefit_distribution['Biodiversity'] += 1\n",
    "        else:\n",
    "            cobenefit_distribution['Environment'] += 1\n",
    "cobenefit_distribution"
   ]
  },
  {
   "cell_type": "markdown",
   "id": "6d8de02e",
   "metadata": {},
   "source": [
    "### Single vs multiple pathways [one bar, binary]"
   ]
  },
  {
   "cell_type": "code",
   "execution_count": 19,
   "id": "983c7a6b",
   "metadata": {},
   "outputs": [
    {
     "data": {
      "text/plain": [
       "{'single': 77390, 'multiple': 179876}"
      ]
     },
     "execution_count": 19,
     "metadata": {},
     "output_type": "execute_result"
    }
   ],
   "source": [
    "pathway_occurence_distribution = dict()\n",
    "pathway_occurence_distribution['single'] = 0\n",
    "pathway_occurence_distribution['multiple'] = 0\n",
    "for i, uid in enumerate(data_df.index.values):\n",
    "    predicted_pathways = data_df.loc[uid, 'predicted_pathway_numbers'][2:-2].split('\\', \\'')\n",
    "    if len(predicted_pathways) == 1:\n",
    "        pathway_occurence_distribution['single'] += 1\n",
    "    else:\n",
    "        pathway_occurence_distribution['multiple'] += 1\n",
    "pathway_occurence_distribution"
   ]
  },
  {
   "cell_type": "markdown",
   "id": "d669a108",
   "metadata": {},
   "source": [
    "### Single vs multiple co-benefits [one bar, binary]"
   ]
  },
  {
   "cell_type": "code",
   "execution_count": 20,
   "id": "69b19616",
   "metadata": {},
   "outputs": [
    {
     "data": {
      "text/plain": [
       "{'single': 15958, 'multiple': 241308}"
      ]
     },
     "execution_count": 20,
     "metadata": {},
     "output_type": "execute_result"
    }
   ],
   "source": [
    "cobenefit_occurence_distribution = dict()\n",
    "cobenefit_occurence_distribution['single'] = 0\n",
    "cobenefit_occurence_distribution['multiple'] = 0\n",
    "for i, uid in enumerate(data_df.index.values):\n",
    "    predicted_cobenefits = data_df.loc[uid, 'predicted_benefits'][2:-2].split('\\', \\'')\n",
    "    if len(predicted_cobenefits) == 1:\n",
    "        cobenefit_occurence_distribution['single'] += 1\n",
    "    else:\n",
    "        cobenefit_occurence_distribution['multiple'] += 1\n",
    "cobenefit_occurence_distribution"
   ]
  },
  {
   "cell_type": "markdown",
   "id": "8a1e336f",
   "metadata": {},
   "source": [
    "### % of papers with location data by continent -->  Geolocation (Continents/no geography)"
   ]
  },
  {
   "cell_type": "code",
   "execution_count": 22,
   "id": "44745ca6",
   "metadata": {},
   "outputs": [],
   "source": [
    "from countriesmaster import countries\n",
    "import pycountry_convert as pc"
   ]
  },
  {
   "cell_type": "code",
   "execution_count": 23,
   "id": "dbf5c4d2",
   "metadata": {},
   "outputs": [],
   "source": [
    "cc = countries.CountryChecker('countriesmaster/TM_WORLD_BORDERS-0.3/TM_WORLD_BORDERS-0.3.shp')"
   ]
  },
  {
   "cell_type": "code",
   "execution_count": 26,
   "id": "5c69ecba",
   "metadata": {},
   "outputs": [
    {
     "name": "stdout",
     "output_type": "stream",
     "text": [
      "10000 176.117401959\n",
      "20000 352.131755334\n",
      "30000 524.9742627920001\n",
      "40000 696.6966490420001\n",
      "50000 890.254916417\n",
      "60000 1072.7185525\n",
      "70000 1250.987036334\n",
      "80000 1430.617955\n",
      "90000 1605.6080975\n",
      "100000 1781.615341417\n",
      "110000 1952.838753792\n",
      "120000 2124.15584675\n",
      "130000 2300.812772667\n",
      "140000 2472.4016308339997\n"
     ]
    }
   ],
   "source": [
    "not_found_country = 0\n",
    "not_found_country_list = list()\n",
    "found_continents = dict()\n",
    "start_time = timer()\n",
    "\n",
    "for i, uid in enumerate(data_df[data_df['geolocation_status'] == 'found'].index.values):\n",
    "    \n",
    "    if (i%10000==0) and (i!=0): \n",
    "        print(i, timer()-start_time)\n",
    "    \n",
    "    location_data = data_df.loc[uid, 'location']\n",
    "    current_continents = list()\n",
    "    for ld in location_data[2:-2].split('\\', \\''):\n",
    "        lat, lon = [float(ld_) for ld_ in ld.split(',')]\n",
    "        country = cc.getCountry(countries.Point(lat, lon))\n",
    "        try:\n",
    "            country_code = pc.country_name_to_country_alpha2(country.__str__(), cn_name_format=\"default\")\n",
    "            continent_name = pc.country_alpha2_to_continent_code(country_code)\n",
    "            current_continents.append(pc.convert_continent_code_to_continent_name(continent_name))\n",
    "            #continent = continents_and_countries[country.__str__()]\n",
    "            #current_continents.append(continent)\n",
    "        except:\n",
    "            if country is None:\n",
    "                not_found_country += 1\n",
    "            else:\n",
    "                not_found_country += 1\n",
    "                not_found_country_list.append(country)\n",
    "    for ccc in list(set(current_continents)):\n",
    "        if ccc in found_continents:\n",
    "            found_continents[ccc] += 1\n",
    "        else:\n",
    "            found_continents[ccc] = 1"
   ]
  },
  {
   "cell_type": "code",
   "execution_count": 27,
   "id": "6f8b0a14",
   "metadata": {},
   "outputs": [
    {
     "data": {
      "text/plain": [
       "10705"
      ]
     },
     "execution_count": 27,
     "metadata": {},
     "output_type": "execute_result"
    }
   ],
   "source": [
    "not_found_country"
   ]
  },
  {
   "cell_type": "code",
   "execution_count": 28,
   "id": "e80c2c88",
   "metadata": {},
   "outputs": [],
   "source": [
    "for i,nfc in enumerate(not_found_country_list):\n",
    "    not_found_country_list[i] = nfc.__str__()"
   ]
  },
  {
   "cell_type": "code",
   "execution_count": 29,
   "id": "f0f051ac",
   "metadata": {
    "scrolled": false
   },
   "outputs": [
    {
     "name": "stdout",
     "output_type": "stream",
     "text": [
      "4324\n",
      "18\n",
      "Wallis and Futuna Islands\n",
      "Reunion\n",
      "United States Minor Outlying Islands\n",
      "Western Sahara\n",
      "Timor-Leste\n",
      "Burma\n",
      "Holy See (Vatican City)\n",
      "Cote d'Ivoire\n",
      "Antarctica\n",
      "The former Yugoslav Republic of Macedonia\n",
      "French Southern and Antarctic Lands\n",
      "Libyan Arab Jamahiriya\n",
      "Iran (Islamic Republic of)\n",
      "South Georgia South Sandwich Islands\n",
      "Netherlands Antilles\n",
      "Pitcairn Islands\n",
      "Saint Helena\n",
      "Saint Barthelemy\n"
     ]
    }
   ],
   "source": [
    "print(len(not_found_country_list))\n",
    "print(len(list(set(not_found_country_list))))\n",
    "for nfcl in set(not_found_country_list):\n",
    "    print(nfcl.__str__())"
   ]
  },
  {
   "cell_type": "code",
   "execution_count": 30,
   "id": "f41abd0f",
   "metadata": {},
   "outputs": [
    {
     "data": {
      "text/plain": [
       "{'North America': 53221,\n",
       " 'Oceania': 9766,\n",
       " 'Asia': 42989,\n",
       " 'Europe': 34679,\n",
       " 'Africa': 15304,\n",
       " 'South America': 13551,\n",
       " 'Missing': 109570}"
      ]
     },
     "execution_count": 30,
     "metadata": {},
     "output_type": "execute_result"
    }
   ],
   "source": [
    "continent_distribution = dict()\n",
    "for k,v in found_continents.items():\n",
    "    if k == 'Antarctica':\n",
    "        continue\n",
    "    else:\n",
    "        continent_distribution[k] = v\n",
    "continent_distribution['Missing'] = data_df[data_df['geolocation_status'] == 'notfound'].shape[0]\n",
    "continent_distribution"
   ]
  },
  {
   "cell_type": "markdown",
   "id": "ee1c4b23-8b31-441b-a5da-aaa6364937b4",
   "metadata": {},
   "source": [
    "### % of papers with biodiversity data"
   ]
  },
  {
   "cell_type": "code",
   "execution_count": 24,
   "id": "9684f6f4",
   "metadata": {},
   "outputs": [
    {
     "data": {
      "text/plain": [
       "{'Yes': 107313, 'No': 149953}"
      ]
     },
     "execution_count": 24,
     "metadata": {},
     "output_type": "execute_result"
    }
   ],
   "source": [
    "biodiv_distribution = dict()\n",
    "biodiv_distribution['Yes'] = data_df[data_df['biodiv_species_name'] != 'Not Found'].shape[0]\n",
    "biodiv_distribution['No'] = data_df[data_df['biodiv_species_name'] == 'Not Found'].shape[0]\n",
    "biodiv_distribution"
   ]
  },
  {
   "cell_type": "code",
   "execution_count": 25,
   "id": "0baf2f4f",
   "metadata": {},
   "outputs": [
    {
     "name": "stdout",
     "output_type": "stream",
     "text": [
      "100000 2.1947464589999868\n"
     ]
    },
    {
     "data": {
      "text/plain": [
       "{'Chloroplastida': 248543,\n",
       " 'Metazoa': 841921,\n",
       " 'N/A': 23432,\n",
       " 'Fungi': 584,\n",
       " 'Archaeplastida': 63,\n",
       " 'Not Found': 149953}"
      ]
     },
     "execution_count": 25,
     "metadata": {},
     "output_type": "execute_result"
    }
   ],
   "source": [
    "kingdom_distribution = dict()\n",
    "start_time = timer()\n",
    "\n",
    "for i, uid in enumerate(data_df[data_df['biodiv_species_name'] != 'Not Found'].index.values):\n",
    "    \n",
    "    if (i%100000==0) and (i!=0): \n",
    "        print(i, timer()-start_time)\n",
    "    \n",
    "    all_kingdoms = data_df.loc[uid, 'biodiv_kingdom_name'][2:-2].split('\\', \\'')\n",
    "    unique_kingdoms_list = list()\n",
    "    all_species = data_df.loc[uid, 'biodiv_species_name'][2:-2].split('\\', \\'')\n",
    "    seen_species = list()\n",
    "    unique_species_indices = list()\n",
    "    for j,s in enumerate(all_species):\n",
    "        if s in seen_species: \n",
    "            continue\n",
    "        else:\n",
    "            seen_species.append(s)\n",
    "            unique_species_indices.append(j)\n",
    "    for k in unique_species_indices:\n",
    "        unique_kingdoms_list.append(all_kingdoms[k])    \n",
    "        \n",
    "    for k in unique_kingdoms_list:\n",
    "        if k in kingdom_distribution:\n",
    "            kingdom_distribution[k] += 1\n",
    "        else:\n",
    "            kingdom_distribution[k] = 1\n",
    "    \n",
    "kingdom_distribution['Not Found'] = sum(data_df[\"biodiv_species_name\"] == \"Not Found\")\n",
    "kingdom_distribution "
   ]
  },
  {
   "cell_type": "markdown",
   "id": "6854ba8e-8f80-474c-b78a-56e09b5c4503",
   "metadata": {},
   "source": [
    "### Biomes\n",
    "\n",
    "Ecosystem functional group decisions:\n",
    "* F --> Freshwater\n",
    "* T1--T3: Forests\n",
    "* T4-T5: Grassland/Open\n",
    "* Anything containing M: Marine\n",
    "* TF/FM/MFT: Wetland\n",
    "* Ignore S (subterranean) unless it is unique."
   ]
  },
  {
   "cell_type": "code",
   "execution_count": 26,
   "id": "c598bc2d-3422-4a91-81a6-a839b2457764",
   "metadata": {},
   "outputs": [],
   "source": [
    "biome_found = 0\n",
    "biome_notfound = 0\n",
    "for d in data_df[\"functional_biomes_raw\"].values:\n",
    "    if d == \"[]\":\n",
    "        biome_notfound += 1\n",
    "    else:\n",
    "        biome_found += 1"
   ]
  },
  {
   "cell_type": "code",
   "execution_count": 27,
   "id": "6ccfa399-be3a-42ed-b41e-805ca3cd10a2",
   "metadata": {},
   "outputs": [],
   "source": [
    "unique_s1_num = 0\n",
    "biomes = dict()\n",
    "\n",
    "for i, uid in enumerate(data_df.index.values):\n",
    "    \n",
    "    cd = data_df.loc[uid, \"functional_biomes_raw\"]\n",
    "    if cd == \"[]\":\n",
    "        if \"Missing\" in biomes:\n",
    "            biomes[\"Missing\"] += 1\n",
    "        else:\n",
    "            biomes[\"Missing\"] = 1\n",
    "    else: \n",
    "        curr_biomes = cd[2:-2].split(\"\\', \\'\")\n",
    "        if (curr_biomes[0] == 'S1') and (len(curr_biomes) == 1):\n",
    "            unique_s1_num += 1\n",
    "        for cb in curr_biomes:\n",
    "            if cb[0] == 'F':\n",
    "                if 'Freshwater' in biomes:\n",
    "                    biomes['Freshwater'] += 1\n",
    "                else:\n",
    "                    biomes['Freshwater'] = 1\n",
    "            elif (cb == 'T1') or (cb == 'T2') or (cb == 'T3'):\n",
    "                if 'Forest' in biomes:\n",
    "                    biomes['Forest'] += 1\n",
    "                else:\n",
    "                    biomes['Forest'] = 1\n",
    "            elif (cb == 'T4') or (cb == 'T5'):\n",
    "                if 'Grassland' in biomes:\n",
    "                    biomes['Grassland'] += 1\n",
    "                else:\n",
    "                    biomes['Grassland'] = 1\n",
    "            elif 'M' in cb[0]:\n",
    "                if 'Marine' in biomes:\n",
    "                    biomes['Marine'] += 1\n",
    "                else:\n",
    "                    biomes['Marine'] = 1\n",
    "            if (cb[:2] == 'TF') or (cb[:2] == 'FM') or (cb[:3] == 'MFT'):\n",
    "                if 'Wetland' in biomes:\n",
    "                    biomes['Wetland'] += 1\n",
    "                else:\n",
    "                    biomes['Wetland'] = 1"
   ]
  },
  {
   "cell_type": "code",
   "execution_count": 28,
   "id": "c2a0f9f2-a718-401f-a3aa-cf9a27efc35f",
   "metadata": {},
   "outputs": [
    {
     "data": {
      "text/plain": [
       "{'Missing': 154761,\n",
       " 'Freshwater': 128187,\n",
       " 'Grassland': 45261,\n",
       " 'Wetland': 14492,\n",
       " 'Marine': 37506,\n",
       " 'Forest': 31726}"
      ]
     },
     "execution_count": 28,
     "metadata": {},
     "output_type": "execute_result"
    }
   ],
   "source": [
    "biomes['Subterranean'] = unique_s1_num\n",
    "biome_distribution = dict()\n",
    "for k,v in biomes.items():\n",
    "    if k == 'Empty':\n",
    "        biome_distribution['Missing'] = v\n",
    "    elif k == 'Subterranean':\n",
    "        pass\n",
    "    else:\n",
    "        biome_distribution[k] = v\n",
    "biome_distribution"
   ]
  },
  {
   "cell_type": "markdown",
   "id": "be03a542-c119-4259-80c0-89a92f57474f",
   "metadata": {
    "tags": []
   },
   "source": [
    "### % of papers on equity --> ESJ"
   ]
  },
  {
   "cell_type": "code",
   "execution_count": 29,
   "id": "4f94843a-ad66-4715-adc9-c224490d4ed7",
   "metadata": {},
   "outputs": [
    {
     "data": {
      "text/plain": [
       "{'Yes': 2670, 'No': 254596}"
      ]
     },
     "execution_count": 29,
     "metadata": {},
     "output_type": "execute_result"
    }
   ],
   "source": [
    "esj_s1_u, esj_s1_v = np.unique(data_df[\"esj_s1\"], return_counts=True)\n",
    "equity_distribution = dict()\n",
    "equity_distribution['Yes'] = esj_s1_v[1]\n",
    "equity_distribution['No'] = esj_s1_v[0]\n",
    "equity_distribution"
   ]
  },
  {
   "cell_type": "markdown",
   "id": "856c9911-2c49-4696-bf26-09613742ea2a",
   "metadata": {},
   "source": [
    "### % of papers with cost data --> Cost"
   ]
  },
  {
   "cell_type": "code",
   "execution_count": 30,
   "id": "d8dab342-19ec-4152-a0fc-803dd401f71c",
   "metadata": {},
   "outputs": [
    {
     "data": {
      "text/plain": [
       "{'Yes': 4992, 'No': 252274}"
      ]
     },
     "execution_count": 30,
     "metadata": {},
     "output_type": "execute_result"
    }
   ],
   "source": [
    "cont_cost_l1_u, cont_cost_l1_v = np.unique(data_df[\"contains_cost_layer1\"], return_counts=True)\n",
    "cost_distribution = dict()\n",
    "cost_distribution['Yes'] = cont_cost_l1_v[1]\n",
    "cost_distribution['No'] = cont_cost_l1_v[0]\n",
    "cost_distribution"
   ]
  },
  {
   "cell_type": "markdown",
   "id": "2ec79ae9",
   "metadata": {},
   "source": [
    "### % of papers on iplc --> IPLC"
   ]
  },
  {
   "cell_type": "code",
   "execution_count": 31,
   "id": "54afc065",
   "metadata": {},
   "outputs": [
    {
     "data": {
      "text/plain": [
       "{'Yes': 3045, 'No': 254221}"
      ]
     },
     "execution_count": 31,
     "metadata": {},
     "output_type": "execute_result"
    }
   ],
   "source": [
    "iplc_s2_u, iplc_s2_v = np.unique(data_df[\"iplc_s2\"], return_counts=True)\n",
    "iplc_distribution = dict()\n",
    "iplc_distribution['Yes'] = iplc_s2_v[1]\n",
    "iplc_distribution['No'] = iplc_s2_v[0]\n",
    "iplc_distribution"
   ]
  },
  {
   "cell_type": "markdown",
   "id": "72029264-8989-44a4-a399-2b8c7b367b14",
   "metadata": {},
   "source": [
    "## Plotting"
   ]
  },
  {
   "cell_type": "code",
   "execution_count": 32,
   "id": "1b579509",
   "metadata": {},
   "outputs": [],
   "source": [
    "def format_number_barchart(text):\n",
    "    output_text = text\n",
    "    while len(output_text.split(',')[0]) > 3:\n",
    "        output_text = output_text[:-3] + ',' + output_text[-3:]\n",
    "    return output_text"
   ]
  },
  {
   "cell_type": "code",
   "execution_count": 33,
   "id": "e32d5de2",
   "metadata": {},
   "outputs": [],
   "source": [
    "def format_string_barchart(text):\n",
    "    \n",
    "    splitted_text = text.split()\n",
    "    output_text = splitted_text[0]\n",
    "    line_length = len(output_text)\n",
    "    for t in splitted_text[1:]:\n",
    "        if (line_length + len(t)) > 20:\n",
    "            output_text = output_text + '\\n' + t\n",
    "            line_length = len(t)\n",
    "        else:\n",
    "            output_text = output_text + ' ' + t\n",
    "            line_length = line_length + len(t)\n",
    "            \n",
    "    return output_text"
   ]
  },
  {
   "cell_type": "markdown",
   "id": "da842cf8",
   "metadata": {},
   "source": [
    "##### Generate dataframe for stacked bar chart"
   ]
  },
  {
   "cell_type": "markdown",
   "id": "0ac439e8",
   "metadata": {},
   "source": [
    "##### Publication information"
   ]
  },
  {
   "cell_type": "code",
   "execution_count": 34,
   "id": "2feb63a7",
   "metadata": {},
   "outputs": [],
   "source": [
    "column_list = ['index', 'Number of authors', 'Year published', 'Disciplines']"
   ]
  },
  {
   "cell_type": "code",
   "execution_count": 35,
   "id": "5688ce73",
   "metadata": {},
   "outputs": [
    {
     "data": {
      "text/plain": [
       "{'1': 24645, '2': 44755, '3': 50713, '4': 44165, '5': 32814, 'Other': 60174}"
      ]
     },
     "execution_count": 35,
     "metadata": {},
     "output_type": "execute_result"
    }
   ],
   "source": [
    "author_distribution"
   ]
  },
  {
   "cell_type": "code",
   "execution_count": 36,
   "id": "107beafb",
   "metadata": {},
   "outputs": [],
   "source": [
    "author_distribution_percentage = list()\n",
    "author_distribution_value = list()\n",
    "sum_of_elements = 0\n",
    "for k,v in author_distribution.items():\n",
    "    sum_of_elements += v \n",
    "for k,v in author_distribution.items():\n",
    "    author_distribution_percentage.append((k, v/sum_of_elements, 0, 0))\n",
    "    author_distribution_value.append((k,format_string_barchart(str(k)+' ('+format_number_barchart(str(v))+')'), 0, 0))\n",
    "author_distribution_percentage = pd.DataFrame(author_distribution_percentage, columns = column_list)\n",
    "author_distribution_value = pd.DataFrame(author_distribution_value, columns = column_list)"
   ]
  },
  {
   "cell_type": "code",
   "execution_count": 37,
   "id": "db6f0d1f",
   "metadata": {},
   "outputs": [
    {
     "data": {
      "text/plain": [
       "{'1990 - 1994': 9254,\n",
       " '1995 - 1999': 15559,\n",
       " '2000 - 2004': 22055,\n",
       " '2005 - 2009': 33116,\n",
       " '2010 - 2014': 48549,\n",
       " '2015 - 2022': 128733}"
      ]
     },
     "execution_count": 37,
     "metadata": {},
     "output_type": "execute_result"
    }
   ],
   "source": [
    "publicationyear_distribution"
   ]
  },
  {
   "cell_type": "code",
   "execution_count": 38,
   "id": "f9e70b32",
   "metadata": {},
   "outputs": [],
   "source": [
    "publicationyear_distribution_percentage = list()\n",
    "publicationyear_distribution_value = list()\n",
    "sum_of_elements = 0\n",
    "for k,v in publicationyear_distribution.items():\n",
    "    sum_of_elements += v \n",
    "for k,v in publicationyear_distribution.items():\n",
    "    publicationyear_distribution_percentage.append((k, 0, v/sum_of_elements, 0))\n",
    "    publicationyear_distribution_value.append((k, 0, format_string_barchart(str(k)+' ('+format_number_barchart(str(v))+')'), 0))\n",
    "publicationyear_distribution_percentage = pd.DataFrame(publicationyear_distribution_percentage, columns = column_list)\n",
    "publicationyear_distribution_value = pd.DataFrame(publicationyear_distribution_value, columns = column_list)"
   ]
  },
  {
   "cell_type": "code",
   "execution_count": 39,
   "id": "5f5143f3",
   "metadata": {},
   "outputs": [
    {
     "data": {
      "text/plain": [
       "{'Missing': 72138,\n",
       " 'Environmental Sciences': 40923,\n",
       " 'Ecology': 34111,\n",
       " 'Agronomy': 23472,\n",
       " 'Plant Sciences': 21455,\n",
       " 'Forestry': 17372,\n",
       " 'Other': 183505}"
      ]
     },
     "execution_count": 39,
     "metadata": {},
     "output_type": "execute_result"
    }
   ],
   "source": [
    "disciplines_distribution"
   ]
  },
  {
   "cell_type": "code",
   "execution_count": 40,
   "id": "11eaaca3",
   "metadata": {},
   "outputs": [],
   "source": [
    "disciplines_distribution_percentage = list()\n",
    "disciplines_distribution_value = list()\n",
    "sum_of_elements = 0\n",
    "for k,v in disciplines_distribution.items():\n",
    "    #if k == 'Missing': continue\n",
    "    sum_of_elements += v \n",
    "for k,v in disciplines_distribution.items():\n",
    "    if k == 'Missing': continue\n",
    "    disciplines_distribution_percentage.append((k, 0, 0, v/sum_of_elements))\n",
    "    disciplines_distribution_value.append((k, 0, 0, format_string_barchart(str(k)+' ('+format_number_barchart(str(v))+')')))\n",
    "if 'Missing' in disciplines_distribution:\n",
    "    k = 'Missing'\n",
    "    v = disciplines_distribution['Missing']\n",
    "    disciplines_distribution_percentage.append((k, 0, 0, v/sum_of_elements))\n",
    "    disciplines_distribution_value.append((k, 0, 0, format_string_barchart(str(k)+' ('+format_number_barchart(str(v))+')')))\n",
    "disciplines_distribution_percentage = pd.DataFrame(disciplines_distribution_percentage, columns = column_list)\n",
    "disciplines_distribution_value = pd.DataFrame(disciplines_distribution_value, columns = column_list)"
   ]
  },
  {
   "cell_type": "code",
   "execution_count": 41,
   "id": "3d8c0ff9",
   "metadata": {},
   "outputs": [],
   "source": [
    "publication_informaton_percentage = pd.concat([author_distribution_percentage, \n",
    "                                               publicationyear_distribution_percentage, \n",
    "                                               disciplines_distribution_percentage])\n",
    "publication_informaton_value = pd.concat([author_distribution_value, \n",
    "                                          publicationyear_distribution_value, \n",
    "                                          disciplines_distribution_value])\n",
    "publication_informaton_percentage.set_index('index', inplace=True)\n",
    "publication_informaton_value.set_index('index', inplace=True)"
   ]
  },
  {
   "cell_type": "code",
   "execution_count": 42,
   "id": "7d19a3c8",
   "metadata": {},
   "outputs": [
    {
     "data": {
      "text/html": [
       "<div>\n",
       "<style scoped>\n",
       "    .dataframe tbody tr th:only-of-type {\n",
       "        vertical-align: middle;\n",
       "    }\n",
       "\n",
       "    .dataframe tbody tr th {\n",
       "        vertical-align: top;\n",
       "    }\n",
       "\n",
       "    .dataframe thead th {\n",
       "        text-align: right;\n",
       "    }\n",
       "</style>\n",
       "<table border=\"1\" class=\"dataframe\">\n",
       "  <thead>\n",
       "    <tr style=\"text-align: right;\">\n",
       "      <th></th>\n",
       "      <th>Number of authors</th>\n",
       "      <th>Year published</th>\n",
       "      <th>Disciplines</th>\n",
       "    </tr>\n",
       "    <tr>\n",
       "      <th>index</th>\n",
       "      <th></th>\n",
       "      <th></th>\n",
       "      <th></th>\n",
       "    </tr>\n",
       "  </thead>\n",
       "  <tbody>\n",
       "    <tr>\n",
       "      <th>1</th>\n",
       "      <td>0.095796</td>\n",
       "      <td>0.000000</td>\n",
       "      <td>0.000000</td>\n",
       "    </tr>\n",
       "    <tr>\n",
       "      <th>2</th>\n",
       "      <td>0.173964</td>\n",
       "      <td>0.000000</td>\n",
       "      <td>0.000000</td>\n",
       "    </tr>\n",
       "    <tr>\n",
       "      <th>3</th>\n",
       "      <td>0.197123</td>\n",
       "      <td>0.000000</td>\n",
       "      <td>0.000000</td>\n",
       "    </tr>\n",
       "    <tr>\n",
       "      <th>4</th>\n",
       "      <td>0.171671</td>\n",
       "      <td>0.000000</td>\n",
       "      <td>0.000000</td>\n",
       "    </tr>\n",
       "    <tr>\n",
       "      <th>5</th>\n",
       "      <td>0.127549</td>\n",
       "      <td>0.000000</td>\n",
       "      <td>0.000000</td>\n",
       "    </tr>\n",
       "    <tr>\n",
       "      <th>Other</th>\n",
       "      <td>0.233898</td>\n",
       "      <td>0.000000</td>\n",
       "      <td>0.000000</td>\n",
       "    </tr>\n",
       "    <tr>\n",
       "      <th>1990 - 1994</th>\n",
       "      <td>0.000000</td>\n",
       "      <td>0.035971</td>\n",
       "      <td>0.000000</td>\n",
       "    </tr>\n",
       "    <tr>\n",
       "      <th>1995 - 1999</th>\n",
       "      <td>0.000000</td>\n",
       "      <td>0.060478</td>\n",
       "      <td>0.000000</td>\n",
       "    </tr>\n",
       "    <tr>\n",
       "      <th>2000 - 2004</th>\n",
       "      <td>0.000000</td>\n",
       "      <td>0.085728</td>\n",
       "      <td>0.000000</td>\n",
       "    </tr>\n",
       "    <tr>\n",
       "      <th>2005 - 2009</th>\n",
       "      <td>0.000000</td>\n",
       "      <td>0.128723</td>\n",
       "      <td>0.000000</td>\n",
       "    </tr>\n",
       "    <tr>\n",
       "      <th>2010 - 2014</th>\n",
       "      <td>0.000000</td>\n",
       "      <td>0.188711</td>\n",
       "      <td>0.000000</td>\n",
       "    </tr>\n",
       "    <tr>\n",
       "      <th>2015 - 2022</th>\n",
       "      <td>0.000000</td>\n",
       "      <td>0.500389</td>\n",
       "      <td>0.000000</td>\n",
       "    </tr>\n",
       "    <tr>\n",
       "      <th>Environmental Sciences</th>\n",
       "      <td>0.000000</td>\n",
       "      <td>0.000000</td>\n",
       "      <td>0.104136</td>\n",
       "    </tr>\n",
       "    <tr>\n",
       "      <th>Ecology</th>\n",
       "      <td>0.000000</td>\n",
       "      <td>0.000000</td>\n",
       "      <td>0.086802</td>\n",
       "    </tr>\n",
       "    <tr>\n",
       "      <th>Agronomy</th>\n",
       "      <td>0.000000</td>\n",
       "      <td>0.000000</td>\n",
       "      <td>0.059729</td>\n",
       "    </tr>\n",
       "    <tr>\n",
       "      <th>Plant Sciences</th>\n",
       "      <td>0.000000</td>\n",
       "      <td>0.000000</td>\n",
       "      <td>0.054596</td>\n",
       "    </tr>\n",
       "    <tr>\n",
       "      <th>Forestry</th>\n",
       "      <td>0.000000</td>\n",
       "      <td>0.000000</td>\n",
       "      <td>0.044206</td>\n",
       "    </tr>\n",
       "    <tr>\n",
       "      <th>Other</th>\n",
       "      <td>0.000000</td>\n",
       "      <td>0.000000</td>\n",
       "      <td>0.466962</td>\n",
       "    </tr>\n",
       "    <tr>\n",
       "      <th>Missing</th>\n",
       "      <td>0.000000</td>\n",
       "      <td>0.000000</td>\n",
       "      <td>0.183568</td>\n",
       "    </tr>\n",
       "  </tbody>\n",
       "</table>\n",
       "</div>"
      ],
      "text/plain": [
       "                        Number of authors  Year published  Disciplines\n",
       "index                                                                 \n",
       "1                                0.095796        0.000000     0.000000\n",
       "2                                0.173964        0.000000     0.000000\n",
       "3                                0.197123        0.000000     0.000000\n",
       "4                                0.171671        0.000000     0.000000\n",
       "5                                0.127549        0.000000     0.000000\n",
       "Other                            0.233898        0.000000     0.000000\n",
       "1990 - 1994                      0.000000        0.035971     0.000000\n",
       "1995 - 1999                      0.000000        0.060478     0.000000\n",
       "2000 - 2004                      0.000000        0.085728     0.000000\n",
       "2005 - 2009                      0.000000        0.128723     0.000000\n",
       "2010 - 2014                      0.000000        0.188711     0.000000\n",
       "2015 - 2022                      0.000000        0.500389     0.000000\n",
       "Environmental Sciences           0.000000        0.000000     0.104136\n",
       "Ecology                          0.000000        0.000000     0.086802\n",
       "Agronomy                         0.000000        0.000000     0.059729\n",
       "Plant Sciences                   0.000000        0.000000     0.054596\n",
       "Forestry                         0.000000        0.000000     0.044206\n",
       "Other                            0.000000        0.000000     0.466962\n",
       "Missing                          0.000000        0.000000     0.183568"
      ]
     },
     "execution_count": 42,
     "metadata": {},
     "output_type": "execute_result"
    }
   ],
   "source": [
    "publication_informaton_percentage"
   ]
  },
  {
   "cell_type": "code",
   "execution_count": 43,
   "id": "bde3aa5a",
   "metadata": {},
   "outputs": [
    {
     "data": {
      "text/html": [
       "<div>\n",
       "<style scoped>\n",
       "    .dataframe tbody tr th:only-of-type {\n",
       "        vertical-align: middle;\n",
       "    }\n",
       "\n",
       "    .dataframe tbody tr th {\n",
       "        vertical-align: top;\n",
       "    }\n",
       "\n",
       "    .dataframe thead th {\n",
       "        text-align: right;\n",
       "    }\n",
       "</style>\n",
       "<table border=\"1\" class=\"dataframe\">\n",
       "  <thead>\n",
       "    <tr style=\"text-align: right;\">\n",
       "      <th></th>\n",
       "      <th>Number of authors</th>\n",
       "      <th>Year published</th>\n",
       "      <th>Disciplines</th>\n",
       "    </tr>\n",
       "    <tr>\n",
       "      <th>index</th>\n",
       "      <th></th>\n",
       "      <th></th>\n",
       "      <th></th>\n",
       "    </tr>\n",
       "  </thead>\n",
       "  <tbody>\n",
       "    <tr>\n",
       "      <th>1</th>\n",
       "      <td>1 (24,645)</td>\n",
       "      <td>0</td>\n",
       "      <td>0</td>\n",
       "    </tr>\n",
       "    <tr>\n",
       "      <th>2</th>\n",
       "      <td>2 (44,755)</td>\n",
       "      <td>0</td>\n",
       "      <td>0</td>\n",
       "    </tr>\n",
       "    <tr>\n",
       "      <th>3</th>\n",
       "      <td>3 (50,713)</td>\n",
       "      <td>0</td>\n",
       "      <td>0</td>\n",
       "    </tr>\n",
       "    <tr>\n",
       "      <th>4</th>\n",
       "      <td>4 (44,165)</td>\n",
       "      <td>0</td>\n",
       "      <td>0</td>\n",
       "    </tr>\n",
       "    <tr>\n",
       "      <th>5</th>\n",
       "      <td>5 (32,814)</td>\n",
       "      <td>0</td>\n",
       "      <td>0</td>\n",
       "    </tr>\n",
       "    <tr>\n",
       "      <th>Other</th>\n",
       "      <td>Other (60,174)</td>\n",
       "      <td>0</td>\n",
       "      <td>0</td>\n",
       "    </tr>\n",
       "    <tr>\n",
       "      <th>1990 - 1994</th>\n",
       "      <td>0</td>\n",
       "      <td>1990 - 1994 (9,254)</td>\n",
       "      <td>0</td>\n",
       "    </tr>\n",
       "    <tr>\n",
       "      <th>1995 - 1999</th>\n",
       "      <td>0</td>\n",
       "      <td>1995 - 1999 (15,559)</td>\n",
       "      <td>0</td>\n",
       "    </tr>\n",
       "    <tr>\n",
       "      <th>2000 - 2004</th>\n",
       "      <td>0</td>\n",
       "      <td>2000 - 2004 (22,055)</td>\n",
       "      <td>0</td>\n",
       "    </tr>\n",
       "    <tr>\n",
       "      <th>2005 - 2009</th>\n",
       "      <td>0</td>\n",
       "      <td>2005 - 2009 (33,116)</td>\n",
       "      <td>0</td>\n",
       "    </tr>\n",
       "    <tr>\n",
       "      <th>2010 - 2014</th>\n",
       "      <td>0</td>\n",
       "      <td>2010 - 2014 (48,549)</td>\n",
       "      <td>0</td>\n",
       "    </tr>\n",
       "    <tr>\n",
       "      <th>2015 - 2022</th>\n",
       "      <td>0</td>\n",
       "      <td>2015 - 2022 (128,733)</td>\n",
       "      <td>0</td>\n",
       "    </tr>\n",
       "    <tr>\n",
       "      <th>Environmental Sciences</th>\n",
       "      <td>0</td>\n",
       "      <td>0</td>\n",
       "      <td>Environmental\\nSciences (40,923)</td>\n",
       "    </tr>\n",
       "    <tr>\n",
       "      <th>Ecology</th>\n",
       "      <td>0</td>\n",
       "      <td>0</td>\n",
       "      <td>Ecology (34,111)</td>\n",
       "    </tr>\n",
       "    <tr>\n",
       "      <th>Agronomy</th>\n",
       "      <td>0</td>\n",
       "      <td>0</td>\n",
       "      <td>Agronomy (23,472)</td>\n",
       "    </tr>\n",
       "    <tr>\n",
       "      <th>Plant Sciences</th>\n",
       "      <td>0</td>\n",
       "      <td>0</td>\n",
       "      <td>Plant Sciences\\n(21,455)</td>\n",
       "    </tr>\n",
       "    <tr>\n",
       "      <th>Forestry</th>\n",
       "      <td>0</td>\n",
       "      <td>0</td>\n",
       "      <td>Forestry (17,372)</td>\n",
       "    </tr>\n",
       "    <tr>\n",
       "      <th>Other</th>\n",
       "      <td>0</td>\n",
       "      <td>0</td>\n",
       "      <td>Other (183,505)</td>\n",
       "    </tr>\n",
       "    <tr>\n",
       "      <th>Missing</th>\n",
       "      <td>0</td>\n",
       "      <td>0</td>\n",
       "      <td>Missing (72,138)</td>\n",
       "    </tr>\n",
       "  </tbody>\n",
       "</table>\n",
       "</div>"
      ],
      "text/plain": [
       "                       Number of authors         Year published   \n",
       "index                                                             \n",
       "1                             1 (24,645)                      0  \\\n",
       "2                             2 (44,755)                      0   \n",
       "3                             3 (50,713)                      0   \n",
       "4                             4 (44,165)                      0   \n",
       "5                             5 (32,814)                      0   \n",
       "Other                     Other (60,174)                      0   \n",
       "1990 - 1994                            0    1990 - 1994 (9,254)   \n",
       "1995 - 1999                            0   1995 - 1999 (15,559)   \n",
       "2000 - 2004                            0   2000 - 2004 (22,055)   \n",
       "2005 - 2009                            0   2005 - 2009 (33,116)   \n",
       "2010 - 2014                            0   2010 - 2014 (48,549)   \n",
       "2015 - 2022                            0  2015 - 2022 (128,733)   \n",
       "Environmental Sciences                 0                      0   \n",
       "Ecology                                0                      0   \n",
       "Agronomy                               0                      0   \n",
       "Plant Sciences                         0                      0   \n",
       "Forestry                               0                      0   \n",
       "Other                                  0                      0   \n",
       "Missing                                0                      0   \n",
       "\n",
       "                                             Disciplines  \n",
       "index                                                     \n",
       "1                                                      0  \n",
       "2                                                      0  \n",
       "3                                                      0  \n",
       "4                                                      0  \n",
       "5                                                      0  \n",
       "Other                                                  0  \n",
       "1990 - 1994                                            0  \n",
       "1995 - 1999                                            0  \n",
       "2000 - 2004                                            0  \n",
       "2005 - 2009                                            0  \n",
       "2010 - 2014                                            0  \n",
       "2015 - 2022                                            0  \n",
       "Environmental Sciences  Environmental\\nSciences (40,923)  \n",
       "Ecology                                 Ecology (34,111)  \n",
       "Agronomy                               Agronomy (23,472)  \n",
       "Plant Sciences                  Plant Sciences\\n(21,455)  \n",
       "Forestry                               Forestry (17,372)  \n",
       "Other                                    Other (183,505)  \n",
       "Missing                                 Missing (72,138)  "
      ]
     },
     "execution_count": 43,
     "metadata": {},
     "output_type": "execute_result"
    }
   ],
   "source": [
    "publication_informaton_value"
   ]
  },
  {
   "cell_type": "markdown",
   "id": "d17fb807",
   "metadata": {},
   "source": [
    "##### NCS/HWB"
   ]
  },
  {
   "cell_type": "code",
   "execution_count": 44,
   "id": "7c509d01",
   "metadata": {},
   "outputs": [],
   "source": [
    "column_list = ['index', 'Protect', 'Manage', 'Restore', 'Cobenefit', 'Pathway occurence', 'Cobenefit occurence']"
   ]
  },
  {
   "cell_type": "code",
   "execution_count": 45,
   "id": "50c1240c",
   "metadata": {},
   "outputs": [
    {
     "data": {
      "text/plain": [
       "{'Avoided forest conversion': 36996,\n",
       " 'Avoided freshwater wetlands impacts': 13229,\n",
       " 'Avoided coastal wetland impacts & conversion': 21307,\n",
       " 'Avoided grassland, savannas, shrublands conversion': 18550}"
      ]
     },
     "execution_count": 45,
     "metadata": {},
     "output_type": "execute_result"
    }
   ],
   "source": [
    "protect_distribution"
   ]
  },
  {
   "cell_type": "code",
   "execution_count": 46,
   "id": "ec2c0ad2",
   "metadata": {},
   "outputs": [],
   "source": [
    "protect_distribution_percentage = list()\n",
    "protect_distribution_value = list()\n",
    "sum_of_elements = 0\n",
    "for k,v in protect_distribution.items():\n",
    "    sum_of_elements += v \n",
    "for k,v in protect_distribution.items():\n",
    "    protect_distribution_percentage.append((k, v/sum_of_elements, 0, 0, 0, 0, 0))\n",
    "    protect_distribution_value.append((k,format_string_barchart(str(k)+' ('+format_number_barchart(str(v))+')'), 0, 0, 0, 0, 0))\n",
    "protect_distribution_percentage = pd.DataFrame(protect_distribution_percentage, columns = column_list)\n",
    "protect_distribution_value = pd.DataFrame(protect_distribution_value, columns = column_list)"
   ]
  },
  {
   "cell_type": "code",
   "execution_count": 47,
   "id": "c6c67f85",
   "metadata": {},
   "outputs": [
    {
     "data": {
      "text/plain": [
       "{'Natural forest management': 74643,\n",
       " 'Conservation agriculture': 96749,\n",
       " 'Improved plantations': 24548,\n",
       " 'Improved rice cultivation': 10414,\n",
       " 'Cropland nutrient management': 46046,\n",
       " 'Biochar': 21177,\n",
       " 'Trees in croplands and agroforestry': 12396,\n",
       " 'Fire management': 19517,\n",
       " 'Grazing – animal management': 22111,\n",
       " 'Grazing – improved feed': 10469,\n",
       " 'Avoided/sustainable woodfuel harvest': 4830,\n",
       " 'Grazing – legumes in pastures': 4580,\n",
       " 'Grazing – optimal intensity': 8274}"
      ]
     },
     "execution_count": 47,
     "metadata": {},
     "output_type": "execute_result"
    }
   ],
   "source": [
    "manage_distribution"
   ]
  },
  {
   "cell_type": "code",
   "execution_count": 48,
   "id": "7f464dae",
   "metadata": {},
   "outputs": [],
   "source": [
    "manage_distribution_percentage = list()\n",
    "manage_distribution_value = list()\n",
    "sum_of_elements = 0\n",
    "for k,v in manage_distribution.items():\n",
    "    sum_of_elements += v \n",
    "for k,v in manage_distribution.items():\n",
    "    manage_distribution_percentage.append((k, 0, v/sum_of_elements, 0, 0, 0, 0))\n",
    "    manage_distribution_value.append((k, 0, format_string_barchart(str(k)+' ('+format_number_barchart(str(v))+')'), 0, 0, 0, 0))\n",
    "manage_distribution_percentage = pd.DataFrame(manage_distribution_percentage, columns = column_list)\n",
    "manage_distribution_value = pd.DataFrame(manage_distribution_value, columns = column_list)"
   ]
  },
  {
   "cell_type": "code",
   "execution_count": 49,
   "id": "be398cb5",
   "metadata": {},
   "outputs": [
    {
     "data": {
      "text/plain": [
       "{'Grassland restoration and rehabilitation': 20635,\n",
       " 'Forest Reforestation & Rehabilitation': 29125,\n",
       " 'Afforestation': 10011,\n",
       " 'Coastal wetlands restoration & rehabilitation': 25186,\n",
       " 'Freshwater wetlands restoration': 14412}"
      ]
     },
     "execution_count": 49,
     "metadata": {},
     "output_type": "execute_result"
    }
   ],
   "source": [
    "restore_distribution"
   ]
  },
  {
   "cell_type": "code",
   "execution_count": 50,
   "id": "c146b191",
   "metadata": {},
   "outputs": [],
   "source": [
    "restore_distribution_percentage = list()\n",
    "restore_distribution_value = list()\n",
    "sum_of_elements = 0\n",
    "for k,v in restore_distribution.items():\n",
    "    sum_of_elements += v \n",
    "for k,v in restore_distribution.items():\n",
    "    restore_distribution_percentage.append((k, 0, 0, v/sum_of_elements, 0, 0, 0))\n",
    "    restore_distribution_value.append((k, 0, 0, format_string_barchart(str(k)+' ('+format_number_barchart(str(v))+')'), 0, 0, 0))\n",
    "restore_distribution_percentage = pd.DataFrame(restore_distribution_percentage, columns = column_list)\n",
    "restore_distribution_value = pd.DataFrame(restore_distribution_value, columns = column_list)"
   ]
  },
  {
   "cell_type": "code",
   "execution_count": 51,
   "id": "efaeda80",
   "metadata": {},
   "outputs": [
    {
     "data": {
      "text/plain": [
       "{'Biodiversity': 131357,\n",
       " 'Environment': 242775,\n",
       " 'Material HWB Benefits': 271046,\n",
       " 'Non-Material HWB Benefits': 87003,\n",
       " 'Health': 17381}"
      ]
     },
     "execution_count": 51,
     "metadata": {},
     "output_type": "execute_result"
    }
   ],
   "source": [
    "cobenefit_distribution"
   ]
  },
  {
   "cell_type": "code",
   "execution_count": 52,
   "id": "2f2e69c4",
   "metadata": {},
   "outputs": [],
   "source": [
    "cobenefit_distribution_percentage = list()\n",
    "cobenefit_distribution_value = list()\n",
    "sum_of_elements = 0\n",
    "for k,v in cobenefit_distribution.items():\n",
    "    sum_of_elements += v \n",
    "for k,v in cobenefit_distribution.items():\n",
    "    cobenefit_distribution_percentage.append((k, 0, 0, 0, v/sum_of_elements, 0, 0))\n",
    "    cobenefit_distribution_value.append((k, 0, 0, 0, format_string_barchart(str(k)+' ('+format_number_barchart(str(v))+')'), 0, 0))\n",
    "cobenefit_distribution_percentage = pd.DataFrame(cobenefit_distribution_percentage, columns = column_list)\n",
    "cobenefit_distribution_value = pd.DataFrame(cobenefit_distribution_value, columns = column_list)"
   ]
  },
  {
   "cell_type": "code",
   "execution_count": 53,
   "id": "071e580d",
   "metadata": {},
   "outputs": [
    {
     "data": {
      "text/plain": [
       "{'single': 77390, 'multiple': 179876}"
      ]
     },
     "execution_count": 53,
     "metadata": {},
     "output_type": "execute_result"
    }
   ],
   "source": [
    "pathway_occurence_distribution"
   ]
  },
  {
   "cell_type": "code",
   "execution_count": 54,
   "id": "b6d673ac",
   "metadata": {},
   "outputs": [],
   "source": [
    "pathway_occurence_distribution_percentage = list()\n",
    "pathway_occurence_distribution_value = list()\n",
    "sum_of_elements = 0\n",
    "for k,v in pathway_occurence_distribution.items():\n",
    "    sum_of_elements += v \n",
    "for k,v in pathway_occurence_distribution.items():\n",
    "    pathway_occurence_distribution_percentage.append((k, 0, 0, 0, 0, v/sum_of_elements, 0))\n",
    "    pathway_occurence_distribution_value.append((k, 0, 0, 0, 0, format_string_barchart(str(k)+' ('+format_number_barchart(str(v))+')'), 0))\n",
    "pathway_occurence_distribution_percentage = pd.DataFrame(pathway_occurence_distribution_percentage, columns = column_list)\n",
    "pathway_occurence_distribution_value = pd.DataFrame(pathway_occurence_distribution_value, columns = column_list)"
   ]
  },
  {
   "cell_type": "code",
   "execution_count": 55,
   "id": "5946d885",
   "metadata": {},
   "outputs": [
    {
     "data": {
      "text/plain": [
       "{'single': 15958, 'multiple': 241308}"
      ]
     },
     "execution_count": 55,
     "metadata": {},
     "output_type": "execute_result"
    }
   ],
   "source": [
    "cobenefit_occurence_distribution"
   ]
  },
  {
   "cell_type": "code",
   "execution_count": 56,
   "id": "48ace6d1",
   "metadata": {},
   "outputs": [],
   "source": [
    "cobenefit_occurence_distribution_percentage = list()\n",
    "cobenefit_occurence_distribution_value = list()\n",
    "sum_of_elements = 0\n",
    "for k,v in cobenefit_occurence_distribution.items():\n",
    "    sum_of_elements += v \n",
    "for k,v in cobenefit_occurence_distribution.items():\n",
    "    cobenefit_occurence_distribution_percentage.append((k, 0, 0, 0, 0, 0, v/sum_of_elements))\n",
    "    cobenefit_occurence_distribution_value.append((k, 0, 0, 0, 0, 0, format_string_barchart(str(k)+' ('+format_number_barchart(str(v))+')')))\n",
    "cobenefit_occurence_distribution_percentage = pd.DataFrame(cobenefit_occurence_distribution_percentage, columns = column_list)\n",
    "cobenefit_occurence_distribution_value = pd.DataFrame(cobenefit_occurence_distribution_value, columns = column_list)"
   ]
  },
  {
   "cell_type": "code",
   "execution_count": 57,
   "id": "f59a4ad2",
   "metadata": {},
   "outputs": [],
   "source": [
    "ncs_hwb_percentage = pd.concat([protect_distribution_percentage, manage_distribution_percentage, restore_distribution_percentage, cobenefit_distribution_percentage, pathway_occurence_distribution_percentage, cobenefit_occurence_distribution_percentage])\n",
    "ncs_hwb_value = pd.concat([protect_distribution_value, manage_distribution_value, restore_distribution_value, cobenefit_distribution_value, pathway_occurence_distribution_value, cobenefit_occurence_distribution_value])\n",
    "ncs_hwb_percentage.set_index('index', inplace=True)\n",
    "ncs_hwb_value.set_index('index', inplace=True)"
   ]
  },
  {
   "cell_type": "code",
   "execution_count": 58,
   "id": "2081e0d0",
   "metadata": {},
   "outputs": [
    {
     "data": {
      "text/html": [
       "<div>\n",
       "<style scoped>\n",
       "    .dataframe tbody tr th:only-of-type {\n",
       "        vertical-align: middle;\n",
       "    }\n",
       "\n",
       "    .dataframe tbody tr th {\n",
       "        vertical-align: top;\n",
       "    }\n",
       "\n",
       "    .dataframe thead th {\n",
       "        text-align: right;\n",
       "    }\n",
       "</style>\n",
       "<table border=\"1\" class=\"dataframe\">\n",
       "  <thead>\n",
       "    <tr style=\"text-align: right;\">\n",
       "      <th></th>\n",
       "      <th>Protect</th>\n",
       "      <th>Manage</th>\n",
       "      <th>Restore</th>\n",
       "      <th>Cobenefit</th>\n",
       "      <th>Pathway occurence</th>\n",
       "      <th>Cobenefit occurence</th>\n",
       "    </tr>\n",
       "    <tr>\n",
       "      <th>index</th>\n",
       "      <th></th>\n",
       "      <th></th>\n",
       "      <th></th>\n",
       "      <th></th>\n",
       "      <th></th>\n",
       "      <th></th>\n",
       "    </tr>\n",
       "  </thead>\n",
       "  <tbody>\n",
       "    <tr>\n",
       "      <th>Avoided forest conversion</th>\n",
       "      <td>0.410692</td>\n",
       "      <td>0.000000</td>\n",
       "      <td>0.000000</td>\n",
       "      <td>0.000000</td>\n",
       "      <td>0.000000</td>\n",
       "      <td>0.000000</td>\n",
       "    </tr>\n",
       "    <tr>\n",
       "      <th>Avoided freshwater wetlands impacts</th>\n",
       "      <td>0.146855</td>\n",
       "      <td>0.000000</td>\n",
       "      <td>0.000000</td>\n",
       "      <td>0.000000</td>\n",
       "      <td>0.000000</td>\n",
       "      <td>0.000000</td>\n",
       "    </tr>\n",
       "    <tr>\n",
       "      <th>Avoided coastal wetland impacts &amp; conversion</th>\n",
       "      <td>0.236529</td>\n",
       "      <td>0.000000</td>\n",
       "      <td>0.000000</td>\n",
       "      <td>0.000000</td>\n",
       "      <td>0.000000</td>\n",
       "      <td>0.000000</td>\n",
       "    </tr>\n",
       "    <tr>\n",
       "      <th>Avoided grassland, savannas, shrublands conversion</th>\n",
       "      <td>0.205923</td>\n",
       "      <td>0.000000</td>\n",
       "      <td>0.000000</td>\n",
       "      <td>0.000000</td>\n",
       "      <td>0.000000</td>\n",
       "      <td>0.000000</td>\n",
       "    </tr>\n",
       "    <tr>\n",
       "      <th>Natural forest management</th>\n",
       "      <td>0.000000</td>\n",
       "      <td>0.209816</td>\n",
       "      <td>0.000000</td>\n",
       "      <td>0.000000</td>\n",
       "      <td>0.000000</td>\n",
       "      <td>0.000000</td>\n",
       "    </tr>\n",
       "    <tr>\n",
       "      <th>Conservation agriculture</th>\n",
       "      <td>0.000000</td>\n",
       "      <td>0.271955</td>\n",
       "      <td>0.000000</td>\n",
       "      <td>0.000000</td>\n",
       "      <td>0.000000</td>\n",
       "      <td>0.000000</td>\n",
       "    </tr>\n",
       "    <tr>\n",
       "      <th>Improved plantations</th>\n",
       "      <td>0.000000</td>\n",
       "      <td>0.069003</td>\n",
       "      <td>0.000000</td>\n",
       "      <td>0.000000</td>\n",
       "      <td>0.000000</td>\n",
       "      <td>0.000000</td>\n",
       "    </tr>\n",
       "    <tr>\n",
       "      <th>Improved rice cultivation</th>\n",
       "      <td>0.000000</td>\n",
       "      <td>0.029273</td>\n",
       "      <td>0.000000</td>\n",
       "      <td>0.000000</td>\n",
       "      <td>0.000000</td>\n",
       "      <td>0.000000</td>\n",
       "    </tr>\n",
       "    <tr>\n",
       "      <th>Cropland nutrient management</th>\n",
       "      <td>0.000000</td>\n",
       "      <td>0.129432</td>\n",
       "      <td>0.000000</td>\n",
       "      <td>0.000000</td>\n",
       "      <td>0.000000</td>\n",
       "      <td>0.000000</td>\n",
       "    </tr>\n",
       "    <tr>\n",
       "      <th>Biochar</th>\n",
       "      <td>0.000000</td>\n",
       "      <td>0.059527</td>\n",
       "      <td>0.000000</td>\n",
       "      <td>0.000000</td>\n",
       "      <td>0.000000</td>\n",
       "      <td>0.000000</td>\n",
       "    </tr>\n",
       "    <tr>\n",
       "      <th>Trees in croplands and agroforestry</th>\n",
       "      <td>0.000000</td>\n",
       "      <td>0.034844</td>\n",
       "      <td>0.000000</td>\n",
       "      <td>0.000000</td>\n",
       "      <td>0.000000</td>\n",
       "      <td>0.000000</td>\n",
       "    </tr>\n",
       "    <tr>\n",
       "      <th>Fire management</th>\n",
       "      <td>0.000000</td>\n",
       "      <td>0.054861</td>\n",
       "      <td>0.000000</td>\n",
       "      <td>0.000000</td>\n",
       "      <td>0.000000</td>\n",
       "      <td>0.000000</td>\n",
       "    </tr>\n",
       "    <tr>\n",
       "      <th>Grazing – animal management</th>\n",
       "      <td>0.000000</td>\n",
       "      <td>0.062152</td>\n",
       "      <td>0.000000</td>\n",
       "      <td>0.000000</td>\n",
       "      <td>0.000000</td>\n",
       "      <td>0.000000</td>\n",
       "    </tr>\n",
       "    <tr>\n",
       "      <th>Grazing – improved feed</th>\n",
       "      <td>0.000000</td>\n",
       "      <td>0.029428</td>\n",
       "      <td>0.000000</td>\n",
       "      <td>0.000000</td>\n",
       "      <td>0.000000</td>\n",
       "      <td>0.000000</td>\n",
       "    </tr>\n",
       "    <tr>\n",
       "      <th>Avoided/sustainable woodfuel harvest</th>\n",
       "      <td>0.000000</td>\n",
       "      <td>0.013577</td>\n",
       "      <td>0.000000</td>\n",
       "      <td>0.000000</td>\n",
       "      <td>0.000000</td>\n",
       "      <td>0.000000</td>\n",
       "    </tr>\n",
       "    <tr>\n",
       "      <th>Grazing – legumes in pastures</th>\n",
       "      <td>0.000000</td>\n",
       "      <td>0.012874</td>\n",
       "      <td>0.000000</td>\n",
       "      <td>0.000000</td>\n",
       "      <td>0.000000</td>\n",
       "      <td>0.000000</td>\n",
       "    </tr>\n",
       "    <tr>\n",
       "      <th>Grazing – optimal intensity</th>\n",
       "      <td>0.000000</td>\n",
       "      <td>0.023258</td>\n",
       "      <td>0.000000</td>\n",
       "      <td>0.000000</td>\n",
       "      <td>0.000000</td>\n",
       "      <td>0.000000</td>\n",
       "    </tr>\n",
       "    <tr>\n",
       "      <th>Grassland restoration and rehabilitation</th>\n",
       "      <td>0.000000</td>\n",
       "      <td>0.000000</td>\n",
       "      <td>0.207660</td>\n",
       "      <td>0.000000</td>\n",
       "      <td>0.000000</td>\n",
       "      <td>0.000000</td>\n",
       "    </tr>\n",
       "    <tr>\n",
       "      <th>Forest Reforestation &amp; Rehabilitation</th>\n",
       "      <td>0.000000</td>\n",
       "      <td>0.000000</td>\n",
       "      <td>0.293099</td>\n",
       "      <td>0.000000</td>\n",
       "      <td>0.000000</td>\n",
       "      <td>0.000000</td>\n",
       "    </tr>\n",
       "    <tr>\n",
       "      <th>Afforestation</th>\n",
       "      <td>0.000000</td>\n",
       "      <td>0.000000</td>\n",
       "      <td>0.100746</td>\n",
       "      <td>0.000000</td>\n",
       "      <td>0.000000</td>\n",
       "      <td>0.000000</td>\n",
       "    </tr>\n",
       "    <tr>\n",
       "      <th>Coastal wetlands restoration &amp; rehabilitation</th>\n",
       "      <td>0.000000</td>\n",
       "      <td>0.000000</td>\n",
       "      <td>0.253459</td>\n",
       "      <td>0.000000</td>\n",
       "      <td>0.000000</td>\n",
       "      <td>0.000000</td>\n",
       "    </tr>\n",
       "    <tr>\n",
       "      <th>Freshwater wetlands restoration</th>\n",
       "      <td>0.000000</td>\n",
       "      <td>0.000000</td>\n",
       "      <td>0.145035</td>\n",
       "      <td>0.000000</td>\n",
       "      <td>0.000000</td>\n",
       "      <td>0.000000</td>\n",
       "    </tr>\n",
       "    <tr>\n",
       "      <th>Biodiversity</th>\n",
       "      <td>0.000000</td>\n",
       "      <td>0.000000</td>\n",
       "      <td>0.000000</td>\n",
       "      <td>0.175245</td>\n",
       "      <td>0.000000</td>\n",
       "      <td>0.000000</td>\n",
       "    </tr>\n",
       "    <tr>\n",
       "      <th>Environment</th>\n",
       "      <td>0.000000</td>\n",
       "      <td>0.000000</td>\n",
       "      <td>0.000000</td>\n",
       "      <td>0.323889</td>\n",
       "      <td>0.000000</td>\n",
       "      <td>0.000000</td>\n",
       "    </tr>\n",
       "    <tr>\n",
       "      <th>Material HWB Benefits</th>\n",
       "      <td>0.000000</td>\n",
       "      <td>0.000000</td>\n",
       "      <td>0.000000</td>\n",
       "      <td>0.361606</td>\n",
       "      <td>0.000000</td>\n",
       "      <td>0.000000</td>\n",
       "    </tr>\n",
       "    <tr>\n",
       "      <th>Non-Material HWB Benefits</th>\n",
       "      <td>0.000000</td>\n",
       "      <td>0.000000</td>\n",
       "      <td>0.000000</td>\n",
       "      <td>0.116072</td>\n",
       "      <td>0.000000</td>\n",
       "      <td>0.000000</td>\n",
       "    </tr>\n",
       "    <tr>\n",
       "      <th>Health</th>\n",
       "      <td>0.000000</td>\n",
       "      <td>0.000000</td>\n",
       "      <td>0.000000</td>\n",
       "      <td>0.023188</td>\n",
       "      <td>0.000000</td>\n",
       "      <td>0.000000</td>\n",
       "    </tr>\n",
       "    <tr>\n",
       "      <th>single</th>\n",
       "      <td>0.000000</td>\n",
       "      <td>0.000000</td>\n",
       "      <td>0.000000</td>\n",
       "      <td>0.000000</td>\n",
       "      <td>0.300817</td>\n",
       "      <td>0.000000</td>\n",
       "    </tr>\n",
       "    <tr>\n",
       "      <th>multiple</th>\n",
       "      <td>0.000000</td>\n",
       "      <td>0.000000</td>\n",
       "      <td>0.000000</td>\n",
       "      <td>0.000000</td>\n",
       "      <td>0.699183</td>\n",
       "      <td>0.000000</td>\n",
       "    </tr>\n",
       "    <tr>\n",
       "      <th>single</th>\n",
       "      <td>0.000000</td>\n",
       "      <td>0.000000</td>\n",
       "      <td>0.000000</td>\n",
       "      <td>0.000000</td>\n",
       "      <td>0.000000</td>\n",
       "      <td>0.062029</td>\n",
       "    </tr>\n",
       "    <tr>\n",
       "      <th>multiple</th>\n",
       "      <td>0.000000</td>\n",
       "      <td>0.000000</td>\n",
       "      <td>0.000000</td>\n",
       "      <td>0.000000</td>\n",
       "      <td>0.000000</td>\n",
       "      <td>0.937971</td>\n",
       "    </tr>\n",
       "  </tbody>\n",
       "</table>\n",
       "</div>"
      ],
      "text/plain": [
       "                                                     Protect    Manage   \n",
       "index                                                                    \n",
       "Avoided forest conversion                           0.410692  0.000000  \\\n",
       "Avoided freshwater wetlands impacts                 0.146855  0.000000   \n",
       "Avoided coastal wetland impacts & conversion        0.236529  0.000000   \n",
       "Avoided grassland, savannas, shrublands conversion  0.205923  0.000000   \n",
       "Natural forest management                           0.000000  0.209816   \n",
       "Conservation agriculture                            0.000000  0.271955   \n",
       "Improved plantations                                0.000000  0.069003   \n",
       "Improved rice cultivation                           0.000000  0.029273   \n",
       "Cropland nutrient management                        0.000000  0.129432   \n",
       "Biochar                                             0.000000  0.059527   \n",
       "Trees in croplands and agroforestry                 0.000000  0.034844   \n",
       "Fire management                                     0.000000  0.054861   \n",
       "Grazing – animal management                         0.000000  0.062152   \n",
       "Grazing – improved feed                             0.000000  0.029428   \n",
       "Avoided/sustainable woodfuel harvest                0.000000  0.013577   \n",
       "Grazing – legumes in pastures                       0.000000  0.012874   \n",
       "Grazing – optimal intensity                         0.000000  0.023258   \n",
       "Grassland restoration and rehabilitation            0.000000  0.000000   \n",
       "Forest Reforestation & Rehabilitation               0.000000  0.000000   \n",
       "Afforestation                                       0.000000  0.000000   \n",
       "Coastal wetlands restoration & rehabilitation       0.000000  0.000000   \n",
       "Freshwater wetlands restoration                     0.000000  0.000000   \n",
       "Biodiversity                                        0.000000  0.000000   \n",
       "Environment                                         0.000000  0.000000   \n",
       "Material HWB Benefits                               0.000000  0.000000   \n",
       "Non-Material HWB Benefits                           0.000000  0.000000   \n",
       "Health                                              0.000000  0.000000   \n",
       "single                                              0.000000  0.000000   \n",
       "multiple                                            0.000000  0.000000   \n",
       "single                                              0.000000  0.000000   \n",
       "multiple                                            0.000000  0.000000   \n",
       "\n",
       "                                                     Restore  Cobenefit   \n",
       "index                                                                     \n",
       "Avoided forest conversion                           0.000000   0.000000  \\\n",
       "Avoided freshwater wetlands impacts                 0.000000   0.000000   \n",
       "Avoided coastal wetland impacts & conversion        0.000000   0.000000   \n",
       "Avoided grassland, savannas, shrublands conversion  0.000000   0.000000   \n",
       "Natural forest management                           0.000000   0.000000   \n",
       "Conservation agriculture                            0.000000   0.000000   \n",
       "Improved plantations                                0.000000   0.000000   \n",
       "Improved rice cultivation                           0.000000   0.000000   \n",
       "Cropland nutrient management                        0.000000   0.000000   \n",
       "Biochar                                             0.000000   0.000000   \n",
       "Trees in croplands and agroforestry                 0.000000   0.000000   \n",
       "Fire management                                     0.000000   0.000000   \n",
       "Grazing – animal management                         0.000000   0.000000   \n",
       "Grazing – improved feed                             0.000000   0.000000   \n",
       "Avoided/sustainable woodfuel harvest                0.000000   0.000000   \n",
       "Grazing – legumes in pastures                       0.000000   0.000000   \n",
       "Grazing – optimal intensity                         0.000000   0.000000   \n",
       "Grassland restoration and rehabilitation            0.207660   0.000000   \n",
       "Forest Reforestation & Rehabilitation               0.293099   0.000000   \n",
       "Afforestation                                       0.100746   0.000000   \n",
       "Coastal wetlands restoration & rehabilitation       0.253459   0.000000   \n",
       "Freshwater wetlands restoration                     0.145035   0.000000   \n",
       "Biodiversity                                        0.000000   0.175245   \n",
       "Environment                                         0.000000   0.323889   \n",
       "Material HWB Benefits                               0.000000   0.361606   \n",
       "Non-Material HWB Benefits                           0.000000   0.116072   \n",
       "Health                                              0.000000   0.023188   \n",
       "single                                              0.000000   0.000000   \n",
       "multiple                                            0.000000   0.000000   \n",
       "single                                              0.000000   0.000000   \n",
       "multiple                                            0.000000   0.000000   \n",
       "\n",
       "                                                    Pathway occurence   \n",
       "index                                                                   \n",
       "Avoided forest conversion                                    0.000000  \\\n",
       "Avoided freshwater wetlands impacts                          0.000000   \n",
       "Avoided coastal wetland impacts & conversion                 0.000000   \n",
       "Avoided grassland, savannas, shrublands conversion           0.000000   \n",
       "Natural forest management                                    0.000000   \n",
       "Conservation agriculture                                     0.000000   \n",
       "Improved plantations                                         0.000000   \n",
       "Improved rice cultivation                                    0.000000   \n",
       "Cropland nutrient management                                 0.000000   \n",
       "Biochar                                                      0.000000   \n",
       "Trees in croplands and agroforestry                          0.000000   \n",
       "Fire management                                              0.000000   \n",
       "Grazing – animal management                                  0.000000   \n",
       "Grazing – improved feed                                      0.000000   \n",
       "Avoided/sustainable woodfuel harvest                         0.000000   \n",
       "Grazing – legumes in pastures                                0.000000   \n",
       "Grazing – optimal intensity                                  0.000000   \n",
       "Grassland restoration and rehabilitation                     0.000000   \n",
       "Forest Reforestation & Rehabilitation                        0.000000   \n",
       "Afforestation                                                0.000000   \n",
       "Coastal wetlands restoration & rehabilitation                0.000000   \n",
       "Freshwater wetlands restoration                              0.000000   \n",
       "Biodiversity                                                 0.000000   \n",
       "Environment                                                  0.000000   \n",
       "Material HWB Benefits                                        0.000000   \n",
       "Non-Material HWB Benefits                                    0.000000   \n",
       "Health                                                       0.000000   \n",
       "single                                                       0.300817   \n",
       "multiple                                                     0.699183   \n",
       "single                                                       0.000000   \n",
       "multiple                                                     0.000000   \n",
       "\n",
       "                                                    Cobenefit occurence  \n",
       "index                                                                    \n",
       "Avoided forest conversion                                      0.000000  \n",
       "Avoided freshwater wetlands impacts                            0.000000  \n",
       "Avoided coastal wetland impacts & conversion                   0.000000  \n",
       "Avoided grassland, savannas, shrublands conversion             0.000000  \n",
       "Natural forest management                                      0.000000  \n",
       "Conservation agriculture                                       0.000000  \n",
       "Improved plantations                                           0.000000  \n",
       "Improved rice cultivation                                      0.000000  \n",
       "Cropland nutrient management                                   0.000000  \n",
       "Biochar                                                        0.000000  \n",
       "Trees in croplands and agroforestry                            0.000000  \n",
       "Fire management                                                0.000000  \n",
       "Grazing – animal management                                    0.000000  \n",
       "Grazing – improved feed                                        0.000000  \n",
       "Avoided/sustainable woodfuel harvest                           0.000000  \n",
       "Grazing – legumes in pastures                                  0.000000  \n",
       "Grazing – optimal intensity                                    0.000000  \n",
       "Grassland restoration and rehabilitation                       0.000000  \n",
       "Forest Reforestation & Rehabilitation                          0.000000  \n",
       "Afforestation                                                  0.000000  \n",
       "Coastal wetlands restoration & rehabilitation                  0.000000  \n",
       "Freshwater wetlands restoration                                0.000000  \n",
       "Biodiversity                                                   0.000000  \n",
       "Environment                                                    0.000000  \n",
       "Material HWB Benefits                                          0.000000  \n",
       "Non-Material HWB Benefits                                      0.000000  \n",
       "Health                                                         0.000000  \n",
       "single                                                         0.000000  \n",
       "multiple                                                       0.000000  \n",
       "single                                                         0.062029  \n",
       "multiple                                                       0.937971  "
      ]
     },
     "execution_count": 58,
     "metadata": {},
     "output_type": "execute_result"
    }
   ],
   "source": [
    "ncs_hwb_percentage"
   ]
  },
  {
   "cell_type": "code",
   "execution_count": 59,
   "id": "b608f4e7",
   "metadata": {},
   "outputs": [
    {
     "data": {
      "text/html": [
       "<div>\n",
       "<style scoped>\n",
       "    .dataframe tbody tr th:only-of-type {\n",
       "        vertical-align: middle;\n",
       "    }\n",
       "\n",
       "    .dataframe tbody tr th {\n",
       "        vertical-align: top;\n",
       "    }\n",
       "\n",
       "    .dataframe thead th {\n",
       "        text-align: right;\n",
       "    }\n",
       "</style>\n",
       "<table border=\"1\" class=\"dataframe\">\n",
       "  <thead>\n",
       "    <tr style=\"text-align: right;\">\n",
       "      <th></th>\n",
       "      <th>Protect</th>\n",
       "      <th>Manage</th>\n",
       "      <th>Restore</th>\n",
       "      <th>Cobenefit</th>\n",
       "      <th>Pathway occurence</th>\n",
       "      <th>Cobenefit occurence</th>\n",
       "    </tr>\n",
       "    <tr>\n",
       "      <th>index</th>\n",
       "      <th></th>\n",
       "      <th></th>\n",
       "      <th></th>\n",
       "      <th></th>\n",
       "      <th></th>\n",
       "      <th></th>\n",
       "    </tr>\n",
       "  </thead>\n",
       "  <tbody>\n",
       "    <tr>\n",
       "      <th>Avoided forest conversion</th>\n",
       "      <td>Avoided forest\\nconversion (36,996)</td>\n",
       "      <td>0</td>\n",
       "      <td>0</td>\n",
       "      <td>0</td>\n",
       "      <td>0</td>\n",
       "      <td>0</td>\n",
       "    </tr>\n",
       "    <tr>\n",
       "      <th>Avoided freshwater wetlands impacts</th>\n",
       "      <td>Avoided freshwater\\nwetlands impacts\\n(13,229)</td>\n",
       "      <td>0</td>\n",
       "      <td>0</td>\n",
       "      <td>0</td>\n",
       "      <td>0</td>\n",
       "      <td>0</td>\n",
       "    </tr>\n",
       "    <tr>\n",
       "      <th>Avoided coastal wetland impacts &amp; conversion</th>\n",
       "      <td>Avoided coastal\\nwetland impacts &amp;\\nconversion...</td>\n",
       "      <td>0</td>\n",
       "      <td>0</td>\n",
       "      <td>0</td>\n",
       "      <td>0</td>\n",
       "      <td>0</td>\n",
       "    </tr>\n",
       "    <tr>\n",
       "      <th>Avoided grassland, savannas, shrublands conversion</th>\n",
       "      <td>Avoided grassland,\\nsavannas, shrublands\\nconv...</td>\n",
       "      <td>0</td>\n",
       "      <td>0</td>\n",
       "      <td>0</td>\n",
       "      <td>0</td>\n",
       "      <td>0</td>\n",
       "    </tr>\n",
       "    <tr>\n",
       "      <th>Natural forest management</th>\n",
       "      <td>0</td>\n",
       "      <td>Natural forest\\nmanagement (74,643)</td>\n",
       "      <td>0</td>\n",
       "      <td>0</td>\n",
       "      <td>0</td>\n",
       "      <td>0</td>\n",
       "    </tr>\n",
       "    <tr>\n",
       "      <th>Conservation agriculture</th>\n",
       "      <td>0</td>\n",
       "      <td>Conservation\\nagriculture (96,749)</td>\n",
       "      <td>0</td>\n",
       "      <td>0</td>\n",
       "      <td>0</td>\n",
       "      <td>0</td>\n",
       "    </tr>\n",
       "    <tr>\n",
       "      <th>Improved plantations</th>\n",
       "      <td>0</td>\n",
       "      <td>Improved plantations\\n(24,548)</td>\n",
       "      <td>0</td>\n",
       "      <td>0</td>\n",
       "      <td>0</td>\n",
       "      <td>0</td>\n",
       "    </tr>\n",
       "    <tr>\n",
       "      <th>Improved rice cultivation</th>\n",
       "      <td>0</td>\n",
       "      <td>Improved rice\\ncultivation (10,414)</td>\n",
       "      <td>0</td>\n",
       "      <td>0</td>\n",
       "      <td>0</td>\n",
       "      <td>0</td>\n",
       "    </tr>\n",
       "    <tr>\n",
       "      <th>Cropland nutrient management</th>\n",
       "      <td>0</td>\n",
       "      <td>Cropland nutrient\\nmanagement (46,046)</td>\n",
       "      <td>0</td>\n",
       "      <td>0</td>\n",
       "      <td>0</td>\n",
       "      <td>0</td>\n",
       "    </tr>\n",
       "    <tr>\n",
       "      <th>Biochar</th>\n",
       "      <td>0</td>\n",
       "      <td>Biochar (21,177)</td>\n",
       "      <td>0</td>\n",
       "      <td>0</td>\n",
       "      <td>0</td>\n",
       "      <td>0</td>\n",
       "    </tr>\n",
       "    <tr>\n",
       "      <th>Trees in croplands and agroforestry</th>\n",
       "      <td>0</td>\n",
       "      <td>Trees in croplands and\\nagroforestry (12,396)</td>\n",
       "      <td>0</td>\n",
       "      <td>0</td>\n",
       "      <td>0</td>\n",
       "      <td>0</td>\n",
       "    </tr>\n",
       "    <tr>\n",
       "      <th>Fire management</th>\n",
       "      <td>0</td>\n",
       "      <td>Fire management\\n(19,517)</td>\n",
       "      <td>0</td>\n",
       "      <td>0</td>\n",
       "      <td>0</td>\n",
       "      <td>0</td>\n",
       "    </tr>\n",
       "    <tr>\n",
       "      <th>Grazing – animal management</th>\n",
       "      <td>0</td>\n",
       "      <td>Grazing – animal\\nmanagement (22,111)</td>\n",
       "      <td>0</td>\n",
       "      <td>0</td>\n",
       "      <td>0</td>\n",
       "      <td>0</td>\n",
       "    </tr>\n",
       "    <tr>\n",
       "      <th>Grazing – improved feed</th>\n",
       "      <td>0</td>\n",
       "      <td>Grazing – improved feed\\n(10,469)</td>\n",
       "      <td>0</td>\n",
       "      <td>0</td>\n",
       "      <td>0</td>\n",
       "      <td>0</td>\n",
       "    </tr>\n",
       "    <tr>\n",
       "      <th>Avoided/sustainable woodfuel harvest</th>\n",
       "      <td>0</td>\n",
       "      <td>Avoided/sustainable\\nwoodfuel harvest\\n(4,830)</td>\n",
       "      <td>0</td>\n",
       "      <td>0</td>\n",
       "      <td>0</td>\n",
       "      <td>0</td>\n",
       "    </tr>\n",
       "    <tr>\n",
       "      <th>Grazing – legumes in pastures</th>\n",
       "      <td>0</td>\n",
       "      <td>Grazing – legumes in\\npastures (4,580)</td>\n",
       "      <td>0</td>\n",
       "      <td>0</td>\n",
       "      <td>0</td>\n",
       "      <td>0</td>\n",
       "    </tr>\n",
       "    <tr>\n",
       "      <th>Grazing – optimal intensity</th>\n",
       "      <td>0</td>\n",
       "      <td>Grazing – optimal\\nintensity (8,274)</td>\n",
       "      <td>0</td>\n",
       "      <td>0</td>\n",
       "      <td>0</td>\n",
       "      <td>0</td>\n",
       "    </tr>\n",
       "    <tr>\n",
       "      <th>Grassland restoration and rehabilitation</th>\n",
       "      <td>0</td>\n",
       "      <td>0</td>\n",
       "      <td>Grassland restoration\\nand rehabilitation\\n(20...</td>\n",
       "      <td>0</td>\n",
       "      <td>0</td>\n",
       "      <td>0</td>\n",
       "    </tr>\n",
       "    <tr>\n",
       "      <th>Forest Reforestation &amp; Rehabilitation</th>\n",
       "      <td>0</td>\n",
       "      <td>0</td>\n",
       "      <td>Forest Reforestation &amp;\\nRehabilitation\\n(29,125)</td>\n",
       "      <td>0</td>\n",
       "      <td>0</td>\n",
       "      <td>0</td>\n",
       "    </tr>\n",
       "    <tr>\n",
       "      <th>Afforestation</th>\n",
       "      <td>0</td>\n",
       "      <td>0</td>\n",
       "      <td>Afforestation\\n(10,011)</td>\n",
       "      <td>0</td>\n",
       "      <td>0</td>\n",
       "      <td>0</td>\n",
       "    </tr>\n",
       "    <tr>\n",
       "      <th>Coastal wetlands restoration &amp; rehabilitation</th>\n",
       "      <td>0</td>\n",
       "      <td>0</td>\n",
       "      <td>Coastal wetlands\\nrestoration &amp;\\nrehabilitatio...</td>\n",
       "      <td>0</td>\n",
       "      <td>0</td>\n",
       "      <td>0</td>\n",
       "    </tr>\n",
       "    <tr>\n",
       "      <th>Freshwater wetlands restoration</th>\n",
       "      <td>0</td>\n",
       "      <td>0</td>\n",
       "      <td>Freshwater wetlands\\nrestoration (14,412)</td>\n",
       "      <td>0</td>\n",
       "      <td>0</td>\n",
       "      <td>0</td>\n",
       "    </tr>\n",
       "    <tr>\n",
       "      <th>Biodiversity</th>\n",
       "      <td>0</td>\n",
       "      <td>0</td>\n",
       "      <td>0</td>\n",
       "      <td>Biodiversity\\n(131,357)</td>\n",
       "      <td>0</td>\n",
       "      <td>0</td>\n",
       "    </tr>\n",
       "    <tr>\n",
       "      <th>Environment</th>\n",
       "      <td>0</td>\n",
       "      <td>0</td>\n",
       "      <td>0</td>\n",
       "      <td>Environment (242,775)</td>\n",
       "      <td>0</td>\n",
       "      <td>0</td>\n",
       "    </tr>\n",
       "    <tr>\n",
       "      <th>Material HWB Benefits</th>\n",
       "      <td>0</td>\n",
       "      <td>0</td>\n",
       "      <td>0</td>\n",
       "      <td>Material HWB Benefits\\n(271,046)</td>\n",
       "      <td>0</td>\n",
       "      <td>0</td>\n",
       "    </tr>\n",
       "    <tr>\n",
       "      <th>Non-Material HWB Benefits</th>\n",
       "      <td>0</td>\n",
       "      <td>0</td>\n",
       "      <td>0</td>\n",
       "      <td>Non-Material HWB\\nBenefits (87,003)</td>\n",
       "      <td>0</td>\n",
       "      <td>0</td>\n",
       "    </tr>\n",
       "    <tr>\n",
       "      <th>Health</th>\n",
       "      <td>0</td>\n",
       "      <td>0</td>\n",
       "      <td>0</td>\n",
       "      <td>Health (17,381)</td>\n",
       "      <td>0</td>\n",
       "      <td>0</td>\n",
       "    </tr>\n",
       "    <tr>\n",
       "      <th>single</th>\n",
       "      <td>0</td>\n",
       "      <td>0</td>\n",
       "      <td>0</td>\n",
       "      <td>0</td>\n",
       "      <td>single (77,390)</td>\n",
       "      <td>0</td>\n",
       "    </tr>\n",
       "    <tr>\n",
       "      <th>multiple</th>\n",
       "      <td>0</td>\n",
       "      <td>0</td>\n",
       "      <td>0</td>\n",
       "      <td>0</td>\n",
       "      <td>multiple (179,876)</td>\n",
       "      <td>0</td>\n",
       "    </tr>\n",
       "    <tr>\n",
       "      <th>single</th>\n",
       "      <td>0</td>\n",
       "      <td>0</td>\n",
       "      <td>0</td>\n",
       "      <td>0</td>\n",
       "      <td>0</td>\n",
       "      <td>single (15,958)</td>\n",
       "    </tr>\n",
       "    <tr>\n",
       "      <th>multiple</th>\n",
       "      <td>0</td>\n",
       "      <td>0</td>\n",
       "      <td>0</td>\n",
       "      <td>0</td>\n",
       "      <td>0</td>\n",
       "      <td>multiple (241,308)</td>\n",
       "    </tr>\n",
       "  </tbody>\n",
       "</table>\n",
       "</div>"
      ],
      "text/plain": [
       "                                                                                              Protect   \n",
       "index                                                                                                   \n",
       "Avoided forest conversion                                         Avoided forest\\nconversion (36,996)  \\\n",
       "Avoided freshwater wetlands impacts                    Avoided freshwater\\nwetlands impacts\\n(13,229)   \n",
       "Avoided coastal wetland impacts & conversion        Avoided coastal\\nwetland impacts &\\nconversion...   \n",
       "Avoided grassland, savannas, shrublands conversion  Avoided grassland,\\nsavannas, shrublands\\nconv...   \n",
       "Natural forest management                                                                           0   \n",
       "Conservation agriculture                                                                            0   \n",
       "Improved plantations                                                                                0   \n",
       "Improved rice cultivation                                                                           0   \n",
       "Cropland nutrient management                                                                        0   \n",
       "Biochar                                                                                             0   \n",
       "Trees in croplands and agroforestry                                                                 0   \n",
       "Fire management                                                                                     0   \n",
       "Grazing – animal management                                                                         0   \n",
       "Grazing – improved feed                                                                             0   \n",
       "Avoided/sustainable woodfuel harvest                                                                0   \n",
       "Grazing – legumes in pastures                                                                       0   \n",
       "Grazing – optimal intensity                                                                         0   \n",
       "Grassland restoration and rehabilitation                                                            0   \n",
       "Forest Reforestation & Rehabilitation                                                               0   \n",
       "Afforestation                                                                                       0   \n",
       "Coastal wetlands restoration & rehabilitation                                                       0   \n",
       "Freshwater wetlands restoration                                                                     0   \n",
       "Biodiversity                                                                                        0   \n",
       "Environment                                                                                         0   \n",
       "Material HWB Benefits                                                                               0   \n",
       "Non-Material HWB Benefits                                                                           0   \n",
       "Health                                                                                              0   \n",
       "single                                                                                              0   \n",
       "multiple                                                                                            0   \n",
       "single                                                                                              0   \n",
       "multiple                                                                                            0   \n",
       "\n",
       "                                                                                            Manage   \n",
       "index                                                                                                \n",
       "Avoided forest conversion                                                                        0  \\\n",
       "Avoided freshwater wetlands impacts                                                              0   \n",
       "Avoided coastal wetland impacts & conversion                                                     0   \n",
       "Avoided grassland, savannas, shrublands conversion                                               0   \n",
       "Natural forest management                                      Natural forest\\nmanagement (74,643)   \n",
       "Conservation agriculture                                        Conservation\\nagriculture (96,749)   \n",
       "Improved plantations                                                Improved plantations\\n(24,548)   \n",
       "Improved rice cultivation                                      Improved rice\\ncultivation (10,414)   \n",
       "Cropland nutrient management                                Cropland nutrient\\nmanagement (46,046)   \n",
       "Biochar                                                                           Biochar (21,177)   \n",
       "Trees in croplands and agroforestry                  Trees in croplands and\\nagroforestry (12,396)   \n",
       "Fire management                                                          Fire management\\n(19,517)   \n",
       "Grazing – animal management                                  Grazing – animal\\nmanagement (22,111)   \n",
       "Grazing – improved feed                                          Grazing – improved feed\\n(10,469)   \n",
       "Avoided/sustainable woodfuel harvest                Avoided/sustainable\\nwoodfuel harvest\\n(4,830)   \n",
       "Grazing – legumes in pastures                               Grazing – legumes in\\npastures (4,580)   \n",
       "Grazing – optimal intensity                                   Grazing – optimal\\nintensity (8,274)   \n",
       "Grassland restoration and rehabilitation                                                         0   \n",
       "Forest Reforestation & Rehabilitation                                                            0   \n",
       "Afforestation                                                                                    0   \n",
       "Coastal wetlands restoration & rehabilitation                                                    0   \n",
       "Freshwater wetlands restoration                                                                  0   \n",
       "Biodiversity                                                                                     0   \n",
       "Environment                                                                                      0   \n",
       "Material HWB Benefits                                                                            0   \n",
       "Non-Material HWB Benefits                                                                        0   \n",
       "Health                                                                                           0   \n",
       "single                                                                                           0   \n",
       "multiple                                                                                         0   \n",
       "single                                                                                           0   \n",
       "multiple                                                                                         0   \n",
       "\n",
       "                                                                                              Restore   \n",
       "index                                                                                                   \n",
       "Avoided forest conversion                                                                           0  \\\n",
       "Avoided freshwater wetlands impacts                                                                 0   \n",
       "Avoided coastal wetland impacts & conversion                                                        0   \n",
       "Avoided grassland, savannas, shrublands conversion                                                  0   \n",
       "Natural forest management                                                                           0   \n",
       "Conservation agriculture                                                                            0   \n",
       "Improved plantations                                                                                0   \n",
       "Improved rice cultivation                                                                           0   \n",
       "Cropland nutrient management                                                                        0   \n",
       "Biochar                                                                                             0   \n",
       "Trees in croplands and agroforestry                                                                 0   \n",
       "Fire management                                                                                     0   \n",
       "Grazing – animal management                                                                         0   \n",
       "Grazing – improved feed                                                                             0   \n",
       "Avoided/sustainable woodfuel harvest                                                                0   \n",
       "Grazing – legumes in pastures                                                                       0   \n",
       "Grazing – optimal intensity                                                                         0   \n",
       "Grassland restoration and rehabilitation            Grassland restoration\\nand rehabilitation\\n(20...   \n",
       "Forest Reforestation & Rehabilitation                Forest Reforestation &\\nRehabilitation\\n(29,125)   \n",
       "Afforestation                                                                 Afforestation\\n(10,011)   \n",
       "Coastal wetlands restoration & rehabilitation       Coastal wetlands\\nrestoration &\\nrehabilitatio...   \n",
       "Freshwater wetlands restoration                             Freshwater wetlands\\nrestoration (14,412)   \n",
       "Biodiversity                                                                                        0   \n",
       "Environment                                                                                         0   \n",
       "Material HWB Benefits                                                                               0   \n",
       "Non-Material HWB Benefits                                                                           0   \n",
       "Health                                                                                              0   \n",
       "single                                                                                              0   \n",
       "multiple                                                                                            0   \n",
       "single                                                                                              0   \n",
       "multiple                                                                                            0   \n",
       "\n",
       "                                                                              Cobenefit   \n",
       "index                                                                                     \n",
       "Avoided forest conversion                                                             0  \\\n",
       "Avoided freshwater wetlands impacts                                                   0   \n",
       "Avoided coastal wetland impacts & conversion                                          0   \n",
       "Avoided grassland, savannas, shrublands conversion                                    0   \n",
       "Natural forest management                                                             0   \n",
       "Conservation agriculture                                                              0   \n",
       "Improved plantations                                                                  0   \n",
       "Improved rice cultivation                                                             0   \n",
       "Cropland nutrient management                                                          0   \n",
       "Biochar                                                                               0   \n",
       "Trees in croplands and agroforestry                                                   0   \n",
       "Fire management                                                                       0   \n",
       "Grazing – animal management                                                           0   \n",
       "Grazing – improved feed                                                               0   \n",
       "Avoided/sustainable woodfuel harvest                                                  0   \n",
       "Grazing – legumes in pastures                                                         0   \n",
       "Grazing – optimal intensity                                                           0   \n",
       "Grassland restoration and rehabilitation                                              0   \n",
       "Forest Reforestation & Rehabilitation                                                 0   \n",
       "Afforestation                                                                         0   \n",
       "Coastal wetlands restoration & rehabilitation                                         0   \n",
       "Freshwater wetlands restoration                                                       0   \n",
       "Biodiversity                                                    Biodiversity\\n(131,357)   \n",
       "Environment                                                       Environment (242,775)   \n",
       "Material HWB Benefits                                  Material HWB Benefits\\n(271,046)   \n",
       "Non-Material HWB Benefits                           Non-Material HWB\\nBenefits (87,003)   \n",
       "Health                                                                  Health (17,381)   \n",
       "single                                                                                0   \n",
       "multiple                                                                              0   \n",
       "single                                                                                0   \n",
       "multiple                                                                              0   \n",
       "\n",
       "                                                     Pathway occurence   \n",
       "index                                                                    \n",
       "Avoided forest conversion                                            0  \\\n",
       "Avoided freshwater wetlands impacts                                  0   \n",
       "Avoided coastal wetland impacts & conversion                         0   \n",
       "Avoided grassland, savannas, shrublands conversion                   0   \n",
       "Natural forest management                                            0   \n",
       "Conservation agriculture                                             0   \n",
       "Improved plantations                                                 0   \n",
       "Improved rice cultivation                                            0   \n",
       "Cropland nutrient management                                         0   \n",
       "Biochar                                                              0   \n",
       "Trees in croplands and agroforestry                                  0   \n",
       "Fire management                                                      0   \n",
       "Grazing – animal management                                          0   \n",
       "Grazing – improved feed                                              0   \n",
       "Avoided/sustainable woodfuel harvest                                 0   \n",
       "Grazing – legumes in pastures                                        0   \n",
       "Grazing – optimal intensity                                          0   \n",
       "Grassland restoration and rehabilitation                             0   \n",
       "Forest Reforestation & Rehabilitation                                0   \n",
       "Afforestation                                                        0   \n",
       "Coastal wetlands restoration & rehabilitation                        0   \n",
       "Freshwater wetlands restoration                                      0   \n",
       "Biodiversity                                                         0   \n",
       "Environment                                                          0   \n",
       "Material HWB Benefits                                                0   \n",
       "Non-Material HWB Benefits                                            0   \n",
       "Health                                                               0   \n",
       "single                                                 single (77,390)   \n",
       "multiple                                            multiple (179,876)   \n",
       "single                                                               0   \n",
       "multiple                                                             0   \n",
       "\n",
       "                                                   Cobenefit occurence  \n",
       "index                                                                   \n",
       "Avoided forest conversion                                            0  \n",
       "Avoided freshwater wetlands impacts                                  0  \n",
       "Avoided coastal wetland impacts & conversion                         0  \n",
       "Avoided grassland, savannas, shrublands conversion                   0  \n",
       "Natural forest management                                            0  \n",
       "Conservation agriculture                                             0  \n",
       "Improved plantations                                                 0  \n",
       "Improved rice cultivation                                            0  \n",
       "Cropland nutrient management                                         0  \n",
       "Biochar                                                              0  \n",
       "Trees in croplands and agroforestry                                  0  \n",
       "Fire management                                                      0  \n",
       "Grazing – animal management                                          0  \n",
       "Grazing – improved feed                                              0  \n",
       "Avoided/sustainable woodfuel harvest                                 0  \n",
       "Grazing – legumes in pastures                                        0  \n",
       "Grazing – optimal intensity                                          0  \n",
       "Grassland restoration and rehabilitation                             0  \n",
       "Forest Reforestation & Rehabilitation                                0  \n",
       "Afforestation                                                        0  \n",
       "Coastal wetlands restoration & rehabilitation                        0  \n",
       "Freshwater wetlands restoration                                      0  \n",
       "Biodiversity                                                         0  \n",
       "Environment                                                          0  \n",
       "Material HWB Benefits                                                0  \n",
       "Non-Material HWB Benefits                                            0  \n",
       "Health                                                               0  \n",
       "single                                                               0  \n",
       "multiple                                                             0  \n",
       "single                                                 single (15,958)  \n",
       "multiple                                            multiple (241,308)  "
      ]
     },
     "execution_count": 59,
     "metadata": {},
     "output_type": "execute_result"
    }
   ],
   "source": [
    "ncs_hwb_value"
   ]
  },
  {
   "cell_type": "markdown",
   "id": "87a60957",
   "metadata": {},
   "source": [
    "##### Ecological Variables"
   ]
  },
  {
   "cell_type": "code",
   "execution_count": 189,
   "id": "b738d1d1",
   "metadata": {},
   "outputs": [],
   "source": [
    "column_list = ['index', 'Continent', 'Biodiversity', 'Biome']"
   ]
  },
  {
   "cell_type": "code",
   "execution_count": 190,
   "id": "a5932537",
   "metadata": {},
   "outputs": [
    {
     "data": {
      "text/plain": [
       "{'North America': 53221,\n",
       " 'Oceania': 9766,\n",
       " 'Asia': 42989,\n",
       " 'Europe': 34679,\n",
       " 'Africa': 15304,\n",
       " 'South America': 13551,\n",
       " 'Missing': 109570}"
      ]
     },
     "execution_count": 190,
     "metadata": {},
     "output_type": "execute_result"
    }
   ],
   "source": [
    "continent_distribution"
   ]
  },
  {
   "cell_type": "code",
   "execution_count": 191,
   "id": "e7337c80",
   "metadata": {},
   "outputs": [],
   "source": [
    "continent_distribution_percentage = list()\n",
    "continent_distribution_value = list()\n",
    "sum_of_elements = 0\n",
    "for k,v in continent_distribution.items():\n",
    "    #if k == 'Missing': continue\n",
    "    sum_of_elements += v \n",
    "for k,v in continent_distribution.items():\n",
    "    if k == 'Missing': continue\n",
    "    continent_distribution_percentage.append((k, v/sum_of_elements, 0, 0))\n",
    "    continent_distribution_value.append((k,format_string_barchart(str(k)+' ('+format_number_barchart(str(v))+')'), 0, 0))\n",
    "if 'Missing' in continent_distribution:\n",
    "    k = 'Missing'\n",
    "    v = continent_distribution['Missing']\n",
    "    continent_distribution_percentage.append((k, v/sum_of_elements, 0, 0))\n",
    "    continent_distribution_value.append((k,format_string_barchart(str(k)+' ('+format_number_barchart(str(v))+')'), 0, 0))\n",
    "continent_distribution_percentage = pd.DataFrame(continent_distribution_percentage, columns = column_list)\n",
    "continent_distribution_value = pd.DataFrame(continent_distribution_value, columns = column_list)"
   ]
  },
  {
   "cell_type": "code",
   "execution_count": 192,
   "id": "336eaacc",
   "metadata": {},
   "outputs": [
    {
     "data": {
      "text/plain": [
       "{'Yes': 107313, 'No': 149953}"
      ]
     },
     "execution_count": 192,
     "metadata": {},
     "output_type": "execute_result"
    }
   ],
   "source": [
    "biodiv_distribution"
   ]
  },
  {
   "cell_type": "code",
   "execution_count": 193,
   "id": "724057ba",
   "metadata": {},
   "outputs": [],
   "source": [
    "biodiv_distribution_percentage = list()\n",
    "biodiv_distribution_value = list()\n",
    "sum_of_elements = 0\n",
    "for k,v in biodiv_distribution.items():\n",
    "    #if k == 'Missing': continue\n",
    "    sum_of_elements += v \n",
    "for k,v in biodiv_distribution.items():\n",
    "    if k == 'Missing': continue\n",
    "    biodiv_distribution_percentage.append((k, 0, v/sum_of_elements, 0))\n",
    "    biodiv_distribution_value.append((k, 0, format_string_barchart(str(k)+' ('+format_number_barchart(str(v))+')'), 0))\n",
    "if 'Missing' in biodiv_distribution:\n",
    "    k = 'Missing'\n",
    "    v = biodiv_distribution['Missing']\n",
    "    biodiv_distribution_percentage.append((k, 0, v/sum_of_elements, 0))\n",
    "    biodiv_distribution_value.append((k, 0, format_string_barchart(str(k)+' ('+format_number_barchart(str(v))+')'), 0))\n",
    "biodiv_distribution_percentage = pd.DataFrame(biodiv_distribution_percentage, columns = column_list)\n",
    "biodiv_distribution_value = pd.DataFrame(biodiv_distribution_value, columns = column_list)"
   ]
  },
  {
   "cell_type": "code",
   "execution_count": 194,
   "id": "abbf26cf",
   "metadata": {},
   "outputs": [
    {
     "data": {
      "text/plain": [
       "{'Missing': 154761,\n",
       " 'Freshwater': 128187,\n",
       " 'Grassland': 45261,\n",
       " 'Wetland': 14492,\n",
       " 'Marine': 37506,\n",
       " 'Forest': 31726}"
      ]
     },
     "execution_count": 194,
     "metadata": {},
     "output_type": "execute_result"
    }
   ],
   "source": [
    "biome_distribution"
   ]
  },
  {
   "cell_type": "code",
   "execution_count": 195,
   "id": "9d1a8a3a",
   "metadata": {},
   "outputs": [],
   "source": [
    "biome_distribution_percentage = list()\n",
    "biome_distribution_value = list()\n",
    "sum_of_elements = 0\n",
    "for k,v in biome_distribution.items():\n",
    "    #if k == 'Missing': continue\n",
    "    sum_of_elements += v \n",
    "for k,v in biome_distribution.items():\n",
    "    if k == 'Missing': continue\n",
    "    biome_distribution_percentage.append((k, 0, 0, v/sum_of_elements))\n",
    "    biome_distribution_value.append((k, 0, 0, format_string_barchart(str(k)+' ('+format_number_barchart(str(v))+')')))\n",
    "if 'Missing' in biome_distribution:\n",
    "    k = 'Missing'\n",
    "    v = biome_distribution['Missing']\n",
    "    biome_distribution_percentage.append((k, 0, 0, v/sum_of_elements))\n",
    "    biome_distribution_value.append((k, 0, 0, format_string_barchart(str(k)+' ('+format_number_barchart(str(v))+')')))\n",
    "biome_distribution_percentage = pd.DataFrame(biome_distribution_percentage, columns = column_list)\n",
    "biome_distribution_value = pd.DataFrame(biome_distribution_value, columns = column_list)"
   ]
  },
  {
   "cell_type": "code",
   "execution_count": 196,
   "id": "5ff1ba5b",
   "metadata": {},
   "outputs": [],
   "source": [
    "ecological_variables_percentage = pd.concat([continent_distribution_percentage, biodiv_distribution_percentage, biome_distribution_percentage])\n",
    "ecological_variables_value = pd.concat([continent_distribution_value, biodiv_distribution_value, biome_distribution_value])\n",
    "ecological_variables_percentage.set_index('index', inplace=True)\n",
    "ecological_variables_value.set_index('index', inplace=True)"
   ]
  },
  {
   "cell_type": "code",
   "execution_count": 197,
   "id": "0606f52c",
   "metadata": {},
   "outputs": [
    {
     "data": {
      "text/html": [
       "<div>\n",
       "<style scoped>\n",
       "    .dataframe tbody tr th:only-of-type {\n",
       "        vertical-align: middle;\n",
       "    }\n",
       "\n",
       "    .dataframe tbody tr th {\n",
       "        vertical-align: top;\n",
       "    }\n",
       "\n",
       "    .dataframe thead th {\n",
       "        text-align: right;\n",
       "    }\n",
       "</style>\n",
       "<table border=\"1\" class=\"dataframe\">\n",
       "  <thead>\n",
       "    <tr style=\"text-align: right;\">\n",
       "      <th></th>\n",
       "      <th>Continent</th>\n",
       "      <th>Biodiversity</th>\n",
       "      <th>Biome</th>\n",
       "    </tr>\n",
       "    <tr>\n",
       "      <th>index</th>\n",
       "      <th></th>\n",
       "      <th></th>\n",
       "      <th></th>\n",
       "    </tr>\n",
       "  </thead>\n",
       "  <tbody>\n",
       "    <tr>\n",
       "      <th>North America</th>\n",
       "      <td>0.190702</td>\n",
       "      <td>0.000000</td>\n",
       "      <td>0.000000</td>\n",
       "    </tr>\n",
       "    <tr>\n",
       "      <th>Oceania</th>\n",
       "      <td>0.034994</td>\n",
       "      <td>0.000000</td>\n",
       "      <td>0.000000</td>\n",
       "    </tr>\n",
       "    <tr>\n",
       "      <th>Asia</th>\n",
       "      <td>0.154038</td>\n",
       "      <td>0.000000</td>\n",
       "      <td>0.000000</td>\n",
       "    </tr>\n",
       "    <tr>\n",
       "      <th>Europe</th>\n",
       "      <td>0.124262</td>\n",
       "      <td>0.000000</td>\n",
       "      <td>0.000000</td>\n",
       "    </tr>\n",
       "    <tr>\n",
       "      <th>Africa</th>\n",
       "      <td>0.054837</td>\n",
       "      <td>0.000000</td>\n",
       "      <td>0.000000</td>\n",
       "    </tr>\n",
       "    <tr>\n",
       "      <th>South America</th>\n",
       "      <td>0.048556</td>\n",
       "      <td>0.000000</td>\n",
       "      <td>0.000000</td>\n",
       "    </tr>\n",
       "    <tr>\n",
       "      <th>Missing</th>\n",
       "      <td>0.392611</td>\n",
       "      <td>0.000000</td>\n",
       "      <td>0.000000</td>\n",
       "    </tr>\n",
       "    <tr>\n",
       "      <th>Yes</th>\n",
       "      <td>0.000000</td>\n",
       "      <td>0.417129</td>\n",
       "      <td>0.000000</td>\n",
       "    </tr>\n",
       "    <tr>\n",
       "      <th>No</th>\n",
       "      <td>0.000000</td>\n",
       "      <td>0.582871</td>\n",
       "      <td>0.000000</td>\n",
       "    </tr>\n",
       "    <tr>\n",
       "      <th>Freshwater</th>\n",
       "      <td>0.000000</td>\n",
       "      <td>0.000000</td>\n",
       "      <td>0.311184</td>\n",
       "    </tr>\n",
       "    <tr>\n",
       "      <th>Grassland</th>\n",
       "      <td>0.000000</td>\n",
       "      <td>0.000000</td>\n",
       "      <td>0.109875</td>\n",
       "    </tr>\n",
       "    <tr>\n",
       "      <th>Wetland</th>\n",
       "      <td>0.000000</td>\n",
       "      <td>0.000000</td>\n",
       "      <td>0.035180</td>\n",
       "    </tr>\n",
       "    <tr>\n",
       "      <th>Marine</th>\n",
       "      <td>0.000000</td>\n",
       "      <td>0.000000</td>\n",
       "      <td>0.091049</td>\n",
       "    </tr>\n",
       "    <tr>\n",
       "      <th>Forest</th>\n",
       "      <td>0.000000</td>\n",
       "      <td>0.000000</td>\n",
       "      <td>0.077017</td>\n",
       "    </tr>\n",
       "    <tr>\n",
       "      <th>Missing</th>\n",
       "      <td>0.000000</td>\n",
       "      <td>0.000000</td>\n",
       "      <td>0.375695</td>\n",
       "    </tr>\n",
       "  </tbody>\n",
       "</table>\n",
       "</div>"
      ],
      "text/plain": [
       "               Continent  Biodiversity     Biome\n",
       "index                                           \n",
       "North America   0.190702      0.000000  0.000000\n",
       "Oceania         0.034994      0.000000  0.000000\n",
       "Asia            0.154038      0.000000  0.000000\n",
       "Europe          0.124262      0.000000  0.000000\n",
       "Africa          0.054837      0.000000  0.000000\n",
       "South America   0.048556      0.000000  0.000000\n",
       "Missing         0.392611      0.000000  0.000000\n",
       "Yes             0.000000      0.417129  0.000000\n",
       "No              0.000000      0.582871  0.000000\n",
       "Freshwater      0.000000      0.000000  0.311184\n",
       "Grassland       0.000000      0.000000  0.109875\n",
       "Wetland         0.000000      0.000000  0.035180\n",
       "Marine          0.000000      0.000000  0.091049\n",
       "Forest          0.000000      0.000000  0.077017\n",
       "Missing         0.000000      0.000000  0.375695"
      ]
     },
     "execution_count": 197,
     "metadata": {},
     "output_type": "execute_result"
    }
   ],
   "source": [
    "ecological_variables_percentage"
   ]
  },
  {
   "cell_type": "code",
   "execution_count": 198,
   "id": "b8e87d69",
   "metadata": {},
   "outputs": [
    {
     "data": {
      "text/html": [
       "<div>\n",
       "<style scoped>\n",
       "    .dataframe tbody tr th:only-of-type {\n",
       "        vertical-align: middle;\n",
       "    }\n",
       "\n",
       "    .dataframe tbody tr th {\n",
       "        vertical-align: top;\n",
       "    }\n",
       "\n",
       "    .dataframe thead th {\n",
       "        text-align: right;\n",
       "    }\n",
       "</style>\n",
       "<table border=\"1\" class=\"dataframe\">\n",
       "  <thead>\n",
       "    <tr style=\"text-align: right;\">\n",
       "      <th></th>\n",
       "      <th>Continent</th>\n",
       "      <th>Biodiversity</th>\n",
       "      <th>Biome</th>\n",
       "    </tr>\n",
       "    <tr>\n",
       "      <th>index</th>\n",
       "      <th></th>\n",
       "      <th></th>\n",
       "      <th></th>\n",
       "    </tr>\n",
       "  </thead>\n",
       "  <tbody>\n",
       "    <tr>\n",
       "      <th>North America</th>\n",
       "      <td>North America (53,221)</td>\n",
       "      <td>0</td>\n",
       "      <td>0</td>\n",
       "    </tr>\n",
       "    <tr>\n",
       "      <th>Oceania</th>\n",
       "      <td>Oceania (9,766)</td>\n",
       "      <td>0</td>\n",
       "      <td>0</td>\n",
       "    </tr>\n",
       "    <tr>\n",
       "      <th>Asia</th>\n",
       "      <td>Asia (42,989)</td>\n",
       "      <td>0</td>\n",
       "      <td>0</td>\n",
       "    </tr>\n",
       "    <tr>\n",
       "      <th>Europe</th>\n",
       "      <td>Europe (34,679)</td>\n",
       "      <td>0</td>\n",
       "      <td>0</td>\n",
       "    </tr>\n",
       "    <tr>\n",
       "      <th>Africa</th>\n",
       "      <td>Africa (15,304)</td>\n",
       "      <td>0</td>\n",
       "      <td>0</td>\n",
       "    </tr>\n",
       "    <tr>\n",
       "      <th>South America</th>\n",
       "      <td>South America (13,551)</td>\n",
       "      <td>0</td>\n",
       "      <td>0</td>\n",
       "    </tr>\n",
       "    <tr>\n",
       "      <th>Missing</th>\n",
       "      <td>Missing (109,570)</td>\n",
       "      <td>0</td>\n",
       "      <td>0</td>\n",
       "    </tr>\n",
       "    <tr>\n",
       "      <th>Yes</th>\n",
       "      <td>0</td>\n",
       "      <td>Yes (107,313)</td>\n",
       "      <td>0</td>\n",
       "    </tr>\n",
       "    <tr>\n",
       "      <th>No</th>\n",
       "      <td>0</td>\n",
       "      <td>No (149,953)</td>\n",
       "      <td>0</td>\n",
       "    </tr>\n",
       "    <tr>\n",
       "      <th>Freshwater</th>\n",
       "      <td>0</td>\n",
       "      <td>0</td>\n",
       "      <td>Freshwater (128,187)</td>\n",
       "    </tr>\n",
       "    <tr>\n",
       "      <th>Grassland</th>\n",
       "      <td>0</td>\n",
       "      <td>0</td>\n",
       "      <td>Grassland (45,261)</td>\n",
       "    </tr>\n",
       "    <tr>\n",
       "      <th>Wetland</th>\n",
       "      <td>0</td>\n",
       "      <td>0</td>\n",
       "      <td>Wetland (14,492)</td>\n",
       "    </tr>\n",
       "    <tr>\n",
       "      <th>Marine</th>\n",
       "      <td>0</td>\n",
       "      <td>0</td>\n",
       "      <td>Marine (37,506)</td>\n",
       "    </tr>\n",
       "    <tr>\n",
       "      <th>Forest</th>\n",
       "      <td>0</td>\n",
       "      <td>0</td>\n",
       "      <td>Forest (31,726)</td>\n",
       "    </tr>\n",
       "    <tr>\n",
       "      <th>Missing</th>\n",
       "      <td>0</td>\n",
       "      <td>0</td>\n",
       "      <td>Missing (154,761)</td>\n",
       "    </tr>\n",
       "  </tbody>\n",
       "</table>\n",
       "</div>"
      ],
      "text/plain": [
       "                            Continent   Biodiversity                 Biome\n",
       "index                                                                     \n",
       "North America  North America (53,221)              0                     0\n",
       "Oceania               Oceania (9,766)              0                     0\n",
       "Asia                    Asia (42,989)              0                     0\n",
       "Europe                Europe (34,679)              0                     0\n",
       "Africa                Africa (15,304)              0                     0\n",
       "South America  South America (13,551)              0                     0\n",
       "Missing             Missing (109,570)              0                     0\n",
       "Yes                                 0  Yes (107,313)                     0\n",
       "No                                  0   No (149,953)                     0\n",
       "Freshwater                          0              0  Freshwater (128,187)\n",
       "Grassland                           0              0    Grassland (45,261)\n",
       "Wetland                             0              0      Wetland (14,492)\n",
       "Marine                              0              0       Marine (37,506)\n",
       "Forest                              0              0       Forest (31,726)\n",
       "Missing                             0              0     Missing (154,761)"
      ]
     },
     "execution_count": 198,
     "metadata": {},
     "output_type": "execute_result"
    }
   ],
   "source": [
    "ecological_variables_value"
   ]
  },
  {
   "cell_type": "markdown",
   "id": "32dccc76",
   "metadata": {},
   "source": [
    "##### human_social_variables"
   ]
  },
  {
   "cell_type": "code",
   "execution_count": 199,
   "id": "8c43c534",
   "metadata": {},
   "outputs": [],
   "source": [
    "column_list = ['index', 'Equity', 'Cost', 'IPLC']"
   ]
  },
  {
   "cell_type": "code",
   "execution_count": 644,
   "id": "6893481a",
   "metadata": {},
   "outputs": [
    {
     "data": {
      "text/plain": [
       "{'Yes': 2670, 'No': 254596}"
      ]
     },
     "execution_count": 644,
     "metadata": {},
     "output_type": "execute_result"
    }
   ],
   "source": [
    "equity_distribution"
   ]
  },
  {
   "cell_type": "code",
   "execution_count": 645,
   "id": "5bb7cb67",
   "metadata": {},
   "outputs": [],
   "source": [
    "equity_distribution_percentage = list()\n",
    "equity_distribution_value = list()\n",
    "sum_of_elements = 0\n",
    "for k,v in equity_distribution.items():\n",
    "    sum_of_elements += v \n",
    "for k,v in equity_distribution.items():\n",
    "    equity_distribution_percentage.append((k, v/sum_of_elements, 0, 0))\n",
    "    equity_distribution_value.append((k,format_string_barchart(str(k)+' ('+format_number_barchart(str(v))+')'), 0, 0))\n",
    "equity_distribution_percentage = pd.DataFrame(equity_distribution_percentage, columns = column_list)\n",
    "equity_distribution_value = pd.DataFrame(equity_distribution_value, columns = column_list)"
   ]
  },
  {
   "cell_type": "code",
   "execution_count": 646,
   "id": "a97b3821",
   "metadata": {},
   "outputs": [
    {
     "data": {
      "text/plain": [
       "{'Yes': 4992, 'No': 252274}"
      ]
     },
     "execution_count": 646,
     "metadata": {},
     "output_type": "execute_result"
    }
   ],
   "source": [
    "cost_distribution"
   ]
  },
  {
   "cell_type": "code",
   "execution_count": 647,
   "id": "ed619b85",
   "metadata": {},
   "outputs": [],
   "source": [
    "cost_distribution_percentage = list()\n",
    "cost_distribution_value = list()\n",
    "sum_of_elements = 0\n",
    "for k,v in cost_distribution.items():\n",
    "    sum_of_elements += v \n",
    "for k,v in cost_distribution.items():\n",
    "    cost_distribution_percentage.append((k, 0, v/sum_of_elements, 0))\n",
    "    cost_distribution_value.append((k, 0, format_string_barchart(str(k)+' ('+format_number_barchart(str(v))+')'), 0))\n",
    "cost_distribution_percentage = pd.DataFrame(cost_distribution_percentage, columns = column_list)\n",
    "cost_distribution_value = pd.DataFrame(cost_distribution_value, columns = column_list)"
   ]
  },
  {
   "cell_type": "code",
   "execution_count": 648,
   "id": "c27bb578",
   "metadata": {},
   "outputs": [
    {
     "data": {
      "text/plain": [
       "{'Yes': 3045, 'No': 254221}"
      ]
     },
     "execution_count": 648,
     "metadata": {},
     "output_type": "execute_result"
    }
   ],
   "source": [
    "iplc_distribution"
   ]
  },
  {
   "cell_type": "code",
   "execution_count": 649,
   "id": "cc002c35",
   "metadata": {},
   "outputs": [],
   "source": [
    "iplc_distribution_percentage = list()\n",
    "iplc_distribution_value = list()\n",
    "sum_of_elements = 0\n",
    "for k,v in iplc_distribution.items():\n",
    "    sum_of_elements += v \n",
    "for k,v in iplc_distribution.items():\n",
    "    iplc_distribution_percentage.append((k, 0, 0, v/sum_of_elements))\n",
    "    iplc_distribution_value.append((k, 0, 0, format_string_barchart(str(k)+' ('+format_number_barchart(str(v))+')')))\n",
    "iplc_distribution_percentage = pd.DataFrame(iplc_distribution_percentage, columns = column_list)\n",
    "iplc_distribution_value = pd.DataFrame(iplc_distribution_value, columns = column_list)"
   ]
  },
  {
   "cell_type": "code",
   "execution_count": 650,
   "id": "fca5c136",
   "metadata": {},
   "outputs": [],
   "source": [
    "human_social_variables_percentage = pd.concat([equity_distribution_percentage, cost_distribution_percentage, iplc_distribution_percentage])\n",
    "human_social_variables_value = pd.concat([equity_distribution_value, cost_distribution_value, iplc_distribution_value])\n",
    "human_social_variables_percentage.set_index('index', inplace=True)\n",
    "human_social_variables_value.set_index('index', inplace=True)"
   ]
  },
  {
   "cell_type": "code",
   "execution_count": 651,
   "id": "b3d71a0d",
   "metadata": {},
   "outputs": [
    {
     "data": {
      "text/html": [
       "<div>\n",
       "<style scoped>\n",
       "    .dataframe tbody tr th:only-of-type {\n",
       "        vertical-align: middle;\n",
       "    }\n",
       "\n",
       "    .dataframe tbody tr th {\n",
       "        vertical-align: top;\n",
       "    }\n",
       "\n",
       "    .dataframe thead th {\n",
       "        text-align: right;\n",
       "    }\n",
       "</style>\n",
       "<table border=\"1\" class=\"dataframe\">\n",
       "  <thead>\n",
       "    <tr style=\"text-align: right;\">\n",
       "      <th></th>\n",
       "      <th>Equity</th>\n",
       "      <th>Cost</th>\n",
       "      <th>IPLC</th>\n",
       "    </tr>\n",
       "    <tr>\n",
       "      <th>index</th>\n",
       "      <th></th>\n",
       "      <th></th>\n",
       "      <th></th>\n",
       "    </tr>\n",
       "  </thead>\n",
       "  <tbody>\n",
       "    <tr>\n",
       "      <th>Yes</th>\n",
       "      <td>0.010378</td>\n",
       "      <td>0.000000</td>\n",
       "      <td>0.000000</td>\n",
       "    </tr>\n",
       "    <tr>\n",
       "      <th>No</th>\n",
       "      <td>0.989622</td>\n",
       "      <td>0.000000</td>\n",
       "      <td>0.000000</td>\n",
       "    </tr>\n",
       "    <tr>\n",
       "      <th>Yes</th>\n",
       "      <td>0.000000</td>\n",
       "      <td>0.019404</td>\n",
       "      <td>0.000000</td>\n",
       "    </tr>\n",
       "    <tr>\n",
       "      <th>No</th>\n",
       "      <td>0.000000</td>\n",
       "      <td>0.980596</td>\n",
       "      <td>0.000000</td>\n",
       "    </tr>\n",
       "    <tr>\n",
       "      <th>Yes</th>\n",
       "      <td>0.000000</td>\n",
       "      <td>0.000000</td>\n",
       "      <td>0.011836</td>\n",
       "    </tr>\n",
       "    <tr>\n",
       "      <th>No</th>\n",
       "      <td>0.000000</td>\n",
       "      <td>0.000000</td>\n",
       "      <td>0.988164</td>\n",
       "    </tr>\n",
       "  </tbody>\n",
       "</table>\n",
       "</div>"
      ],
      "text/plain": [
       "         Equity      Cost      IPLC\n",
       "index                              \n",
       "Yes    0.010378  0.000000  0.000000\n",
       "No     0.989622  0.000000  0.000000\n",
       "Yes    0.000000  0.019404  0.000000\n",
       "No     0.000000  0.980596  0.000000\n",
       "Yes    0.000000  0.000000  0.011836\n",
       "No     0.000000  0.000000  0.988164"
      ]
     },
     "execution_count": 651,
     "metadata": {},
     "output_type": "execute_result"
    }
   ],
   "source": [
    "human_social_variables_percentage"
   ]
  },
  {
   "cell_type": "code",
   "execution_count": 652,
   "id": "4e5febe1",
   "metadata": {},
   "outputs": [
    {
     "data": {
      "text/html": [
       "<div>\n",
       "<style scoped>\n",
       "    .dataframe tbody tr th:only-of-type {\n",
       "        vertical-align: middle;\n",
       "    }\n",
       "\n",
       "    .dataframe tbody tr th {\n",
       "        vertical-align: top;\n",
       "    }\n",
       "\n",
       "    .dataframe thead th {\n",
       "        text-align: right;\n",
       "    }\n",
       "</style>\n",
       "<table border=\"1\" class=\"dataframe\">\n",
       "  <thead>\n",
       "    <tr style=\"text-align: right;\">\n",
       "      <th></th>\n",
       "      <th>Equity</th>\n",
       "      <th>Cost</th>\n",
       "      <th>IPLC</th>\n",
       "    </tr>\n",
       "    <tr>\n",
       "      <th>index</th>\n",
       "      <th></th>\n",
       "      <th></th>\n",
       "      <th></th>\n",
       "    </tr>\n",
       "  </thead>\n",
       "  <tbody>\n",
       "    <tr>\n",
       "      <th>Yes</th>\n",
       "      <td>Yes (2,670)</td>\n",
       "      <td>0</td>\n",
       "      <td>0</td>\n",
       "    </tr>\n",
       "    <tr>\n",
       "      <th>No</th>\n",
       "      <td>No (254,596)</td>\n",
       "      <td>0</td>\n",
       "      <td>0</td>\n",
       "    </tr>\n",
       "    <tr>\n",
       "      <th>Yes</th>\n",
       "      <td>0</td>\n",
       "      <td>Yes (4,992)</td>\n",
       "      <td>0</td>\n",
       "    </tr>\n",
       "    <tr>\n",
       "      <th>No</th>\n",
       "      <td>0</td>\n",
       "      <td>No (252,274)</td>\n",
       "      <td>0</td>\n",
       "    </tr>\n",
       "    <tr>\n",
       "      <th>Yes</th>\n",
       "      <td>0</td>\n",
       "      <td>0</td>\n",
       "      <td>Yes (3,045)</td>\n",
       "    </tr>\n",
       "    <tr>\n",
       "      <th>No</th>\n",
       "      <td>0</td>\n",
       "      <td>0</td>\n",
       "      <td>No (254,221)</td>\n",
       "    </tr>\n",
       "  </tbody>\n",
       "</table>\n",
       "</div>"
      ],
      "text/plain": [
       "             Equity          Cost          IPLC\n",
       "index                                          \n",
       "Yes     Yes (2,670)             0             0\n",
       "No     No (254,596)             0             0\n",
       "Yes               0   Yes (4,992)             0\n",
       "No                0  No (252,274)             0\n",
       "Yes               0             0   Yes (3,045)\n",
       "No                0             0  No (254,221)"
      ]
     },
     "execution_count": 652,
     "metadata": {},
     "output_type": "execute_result"
    }
   ],
   "source": [
    "human_social_variables_value"
   ]
  },
  {
   "cell_type": "code",
   "execution_count": 149,
   "id": "22742efc",
   "metadata": {},
   "outputs": [],
   "source": [
    "def plot_stacked_bar_v2(data, series_labels, category_labels=None, \n",
    "                     show_values=False, value_format=\"{}\", y_label=None, \n",
    "                     colors=None, grid=False, reverse=False, values_for_text=None, barwidth=0.5, font_size=12, font_family='Arial'):\n",
    "    \"\"\"Plots a stacked bar chart with the data and labels provided.\n",
    "\n",
    "    Keyword arguments:\n",
    "    data            -- 2-dimensional numpy array or nested list\n",
    "                       containing data for each series in rows\n",
    "    series_labels   -- list of series labels (these appear in\n",
    "                       the legend)\n",
    "    category_labels -- list of category labels (these appear\n",
    "                       on the x-axis)\n",
    "    show_values     -- If True then numeric value labels will \n",
    "                       be shown on each bar\n",
    "    value_format    -- Format string for numeric value labels\n",
    "                       (default is \"{}\")\n",
    "    y_label         -- Label for y-axis (str)\n",
    "    colors          -- List of color labels\n",
    "    grid            -- If True display grid\n",
    "    reverse         -- If True reverse the order that the\n",
    "                       series are displayed (left-to-right\n",
    "                       or right-to-left)\n",
    "    \"\"\"\n",
    "\n",
    "    ny = len(data[0])\n",
    "    ind = list(range(ny))\n",
    "\n",
    "    axes = []\n",
    "    cum_size = np.zeros(ny)\n",
    "\n",
    "    data = np.array(data)\n",
    "\n",
    "    if reverse:\n",
    "        data = np.flip(data, axis=1)\n",
    "        category_labels = reversed(category_labels)\n",
    "\n",
    "    for i, row_data in enumerate(data):\n",
    "        color = colors[i] if colors is not None else None\n",
    "        axes.append(plt.bar(ind, row_data, bottom=cum_size, \n",
    "                            label=series_labels[i], color=color, width=barwidth))\n",
    "        cum_size += row_data\n",
    "\n",
    "    if category_labels:\n",
    "        plt.xticks(ind, category_labels)\n",
    "\n",
    "    if y_label:\n",
    "        plt.ylabel(y_label)\n",
    "\n",
    "    # plt.legend()\n",
    "    plt.legend(loc='center left', bbox_to_anchor=(1, 0.5))\n",
    "\n",
    "    if grid:\n",
    "        plt.grid()\n",
    "\n",
    "    if show_values and values_for_text is None:\n",
    "        for axis in axes:\n",
    "            for bar in axis:\n",
    "                w, h = bar.get_width(), bar.get_height()\n",
    "                if h != 0:\n",
    "                    plt.text(bar.get_x() + w/2, bar.get_y() + h/2, \n",
    "                             value_format.format(h), ha=\"center\", \n",
    "                             va=\"center\", fontsize=font_size, fontfamily=font_family)\n",
    "                    \n",
    "    if show_values and values_for_text is not None:\n",
    "        for axis, row in zip(axes, values_for_text):\n",
    "            # print(\"row: \", row)\n",
    "            for bar, val in zip(axis, row):\n",
    "                # print(\"val: \", val)\n",
    "                w, h = bar.get_width(), bar.get_height()\n",
    "                if h != 0:\n",
    "                    \n",
    "                    plt.text(bar.get_x() + w/2, bar.get_y() + h/2, \n",
    "                             val, ha=\"center\", \n",
    "                             va=\"center\", fontsize=font_size, fontfamily=font_family)"
   ]
  },
  {
   "cell_type": "code",
   "execution_count": 150,
   "id": "5f1b2e81",
   "metadata": {},
   "outputs": [],
   "source": [
    "import matplotlib as mpl\n",
    "mpl.rcParams['axes.spines.left'] = True\n",
    "mpl.rcParams['axes.spines.right'] = False\n",
    "mpl.rcParams['axes.spines.top'] = False\n",
    "mpl.rcParams['axes.spines.bottom'] = False"
   ]
  },
  {
   "cell_type": "markdown",
   "id": "32e011cb",
   "metadata": {},
   "source": [
    "##### Combined stacked bar charts plot"
   ]
  },
  {
   "cell_type": "code",
   "execution_count": 201,
   "id": "052c88ce",
   "metadata": {},
   "outputs": [
    {
     "data": {
      "image/png": "[encoded data removed]",
      "text/plain": [
       "<Figure size 1152x1872 with 3 Axes>"
      ]
     },
     "metadata": {
      "needs_background": "light"
     },
     "output_type": "display_data"
    }
   ],
   "source": [
    "font_family_type = 'arial'\n",
    "font_size = 14\n",
    "\n",
    "plt.figure(figsize=(16,26))\n",
    "\n",
    "plt.subplot(2, 2, 1) # divide as 2x2, plot top left\n",
    "plot_stacked_bar_v2(\n",
    "    data = publication_informaton_percentage.values*100, \n",
    "    series_labels = publication_informaton_percentage.index.tolist(), \n",
    "    category_labels = publication_informaton_percentage.columns.tolist(), \n",
    "    show_values=True, \n",
    "    value_format=\"{:.3f}\",\n",
    "    colors=sns.light_palette(\"seagreen\", n_colors=42)[6::6] + sns.light_palette(\"seagreen\", n_colors=42)[6::6] + sns.light_palette(\"seagreen\", n_colors=48)[6::6],\n",
    "    values_for_text= publication_informaton_value.values.tolist(), \n",
    "    barwidth=0.9\n",
    ")\n",
    "plt.legend('', frameon=False)\n",
    "plt.yticks([100, 75, 50, 25, 0], ['100%', '75%', '50%', '25%', '0%'], fontsize=font_size, fontname = font_family_type)\n",
    "plt.xticks(fontsize=font_size, fontname = font_family_type)\n",
    "plt.margins(x=0.02)\n",
    "plt.setp(plt.gca().spines.values(), linewidth=2)\n",
    "plt.tick_params(width=2)\n",
    "\n",
    "mpl.rcParams['axes.spines.left'] = False\n",
    "plt.subplot(2, 2, 2) # divide as 2x2, plot top right\n",
    "base_color = '#3A98B9'\n",
    "plot_stacked_bar_v2(\n",
    "    data = ecological_variables_percentage.values*100, \n",
    "    series_labels = ecological_variables_percentage.index.tolist(), \n",
    "    category_labels = ecological_variables_percentage.columns.tolist(), \n",
    "    show_values=True, \n",
    "    value_format=\"{:.3f}\",\n",
    "    colors=sns.light_palette(base_color, n_colors=48)[6::6] + \n",
    "            sns.light_palette(base_color, n_colors=18)[6::6] + \n",
    "            sns.light_palette(base_color, n_colors=42)[6::6],\n",
    "    values_for_text= ecological_variables_value.values.tolist(),\n",
    "    barwidth = 0.9\n",
    ")\n",
    "plt.legend('', frameon=False)\n",
    "plt.yticks([], [])\n",
    "plt.xticks(fontsize=font_size, fontname = font_family_type)\n",
    "plt.margins(x=0.02)\n",
    "plt.setp(plt.gca().spines.values(), linewidth=2)\n",
    "plt.tick_params(width=2)\n",
    "\n",
    "mpl.rcParams['axes.spines.left'] = True\n",
    "plt.subplot(2, 1, 2) # divide as 2x1, plot bottom\n",
    "base_color = '#DC8449'\n",
    "plot_stacked_bar_v2(\n",
    "    data = ncs_hwb_percentage.values*100, \n",
    "    series_labels = ncs_hwb_percentage.index.tolist(), \n",
    "    category_labels = ncs_hwb_percentage.columns.tolist(), \n",
    "    show_values=True, \n",
    "    value_format=\"{:.3f}\",\n",
    "    colors=sns.light_palette(base_color, n_colors=30)[6::6] + \n",
    "            sns.light_palette(base_color, n_colors=84)[6::6] + \n",
    "            sns.light_palette(base_color, n_colors=36)[6::6] + \n",
    "            sns.light_palette(base_color, n_colors=36)[6::6] + \n",
    "            sns.light_palette(base_color, n_colors=18)[6::6] + \n",
    "            sns.light_palette(base_color, n_colors=18)[6::6],\n",
    "    values_for_text= ncs_hwb_value.values.tolist(),\n",
    "    barwidth = 0.9\n",
    ")\n",
    "\n",
    "plt.legend('', frameon=False)\n",
    "plt.yticks([100, 75, 50, 25, 0], ['100%', '75%', '50%', '25%', '0%'], fontsize=font_size, fontname = font_family_type)\n",
    "plt.xticks(fontsize=font_size, fontname = font_family_type)\n",
    "plt.margins(x=0.01)\n",
    "plt.setp(plt.gca().spines.values(), linewidth=2)\n",
    "plt.tick_params(width=2)\n",
    "\n",
    "plt.subplots_adjust(wspace=0, hspace=0.075)\n",
    "\n",
    "plt.savefig('combined_stacked_bar_charts_withmissing.png')\n",
    "plt.savefig('combined_stacked_bar_charts_withmissing.pdf')"
   ]
  },
  {
   "cell_type": "markdown",
   "id": "895e68b5",
   "metadata": {},
   "source": [
    "##### 1 by 1"
   ]
  },
  {
   "cell_type": "code",
   "execution_count": 49,
   "id": "993379b0-26a8-4140-a449-bd36c8db255d",
   "metadata": {},
   "outputs": [
    {
     "data": {
      "image/png": "[encoded data removed]",
      "text/plain": [
       "<Figure size 1152x1152 with 1 Axes>"
      ]
     },
     "metadata": {
      "needs_background": "light"
     },
     "output_type": "display_data"
    }
   ],
   "source": [
    "plt.figure(figsize=(16, 16))\n",
    "\n",
    "plot_stacked_bar_v2(\n",
    "    data = publication_informaton_percentage.values*100, \n",
    "    series_labels = publication_informaton_percentage.index.tolist(), \n",
    "    category_labels = publication_informaton_percentage.columns.tolist(), \n",
    "    show_values=True, \n",
    "    value_format=\"{:.3f}\",\n",
    "    colors=sns.light_palette(\"seagreen\", n_colors=42)[6::6] + sns.light_palette(\"seagreen\", n_colors=42)[6::6] + sns.light_palette(\"seagreen\", n_colors=48)[6::6],\n",
    "    #y_label=\"%\",\n",
    "    values_for_text= publication_informaton_value.values.tolist(), \n",
    "    barwidth=0.9\n",
    ")\n",
    "\n",
    "plt.legend('', frameon=False)\n",
    "plt.yticks([100, 75, 50, 25, 0], ['100%', '75%', '50%', '25%', '0%'])\n",
    "plt.savefig('publication_information_bar.png')\n",
    "plt.savefig('publication_information_bar.pdf')\n",
    "plt.show()"
   ]
  },
  {
   "cell_type": "code",
   "execution_count": 600,
   "id": "605ddc36-8aff-41b5-a239-4ed07a4f551f",
   "metadata": {},
   "outputs": [
    {
     "data": {
      "image/png": "[encoded data removed]",
      "text/plain": [
       "<Figure size 1152x1152 with 1 Axes>"
      ]
     },
     "metadata": {
      "needs_background": "light"
     },
     "output_type": "display_data"
    }
   ],
   "source": [
    "plt.figure(figsize=(16, 16))\n",
    "base_color = '#DC8449'\n",
    "\n",
    "plot_stacked_bar_v2(\n",
    "    data = ncs_hwb_percentage.values*100, \n",
    "    series_labels = ncs_hwb_percentage.index.tolist(), \n",
    "    category_labels = ncs_hwb_percentage.columns.tolist(), \n",
    "    show_values=True, \n",
    "    value_format=\"{:.3f}\",\n",
    "    colors=sns.light_palette(base_color, n_colors=30)[6::6] + \n",
    "            sns.light_palette(base_color, n_colors=84)[6::6] + \n",
    "            sns.light_palette(base_color, n_colors=36)[6::6] + \n",
    "            sns.light_palette(base_color, n_colors=36)[6::6] + \n",
    "            sns.light_palette(base_color, n_colors=18)[6::6] + \n",
    "            sns.light_palette(base_color, n_colors=18)[6::6],\n",
    "    #y_label=\"%\",\n",
    "    values_for_text= ncs_hwb_value.values.tolist(),\n",
    "    barwidth = 0.9\n",
    ")\n",
    "\n",
    "plt.legend('', frameon=False)\n",
    "plt.yticks([100, 75, 50, 25, 0], ['100%', '75%', '50%', '25%', '0%'])\n",
    "plt.savefig('ncs_hwb_bar_without_missing.png')\n",
    "plt.savefig('ncs_hwb_bar_without_missing.pdf')\n",
    "plt.show()"
   ]
  },
  {
   "cell_type": "code",
   "execution_count": 656,
   "id": "4bcf8474",
   "metadata": {},
   "outputs": [
    {
     "data": {
      "image/png": "[encoded data removed]",
      "text/plain": [
       "<Figure size 1152x1152 with 1 Axes>"
      ]
     },
     "metadata": {
      "needs_background": "light"
     },
     "output_type": "display_data"
    }
   ],
   "source": [
    "plt.figure(figsize=(16, 16))\n",
    "base_color = '#3A98B9'\n",
    "\n",
    "plot_stacked_bar_v2(\n",
    "    data = ecological_variables_percentage.values*100, \n",
    "    series_labels = ecological_variables_percentage.index.tolist(), \n",
    "    category_labels = ecological_variables_percentage.columns.tolist(), \n",
    "    show_values=False, \n",
    "    value_format=\"{:.3f}\",\n",
    "    colors=sns.light_palette(base_color, n_colors=48)[6::6] + \n",
    "            sns.light_palette(base_color, n_colors=18)[6::6] + \n",
    "            sns.light_palette(base_color, n_colors=42)[6::6],\n",
    "    #y_label=\"%\",\n",
    "    values_for_text= ecological_variables_value.values.tolist(),\n",
    "    barwidth = 0.9\n",
    ")\n",
    "\n",
    "plt.legend('', frameon=False)\n",
    "plt.yticks([100, 75, 50, 25, 0], ['100%', '75%', '50%', '25%', '0%'])\n",
    "plt.savefig('ecological_variables_bar_without_missing&label.png')\n",
    "plt.savefig('ecological_variables_bar_without_missing&label.pdf')\n",
    "plt.show()"
   ]
  },
  {
   "cell_type": "code",
   "execution_count": 604,
   "id": "69a94562",
   "metadata": {},
   "outputs": [
    {
     "data": {
      "image/png": "[encoded data removed]",
      "text/plain": [
       "<Figure size 1152x1152 with 1 Axes>"
      ]
     },
     "metadata": {
      "needs_background": "light"
     },
     "output_type": "display_data"
    }
   ],
   "source": [
    "plt.figure(figsize=(16, 16))\n",
    "base_color = '#FFED00'\n",
    "\n",
    "plot_stacked_bar_v2(\n",
    "    data = human_social_variables_percentage.values*100, \n",
    "    series_labels = human_social_variables_percentage.index.tolist(), \n",
    "    category_labels = human_social_variables_percentage.columns.tolist(), \n",
    "    show_values=True, \n",
    "    value_format=\"{:.3f}\",\n",
    "    colors=sns.light_palette(base_color, n_colors=18)[6::-6] + \n",
    "            sns.light_palette(base_color, n_colors=18)[6::-6] + \n",
    "            sns.light_palette(base_color, n_colors=18)[6::-6],\n",
    "    #y_label=\"%\",\n",
    "    values_for_text= human_social_variables_value.values.tolist(),\n",
    "    barwidth = 0.9\n",
    ")\n",
    "\n",
    "plt.legend('', frameon=False)\n",
    "plt.yticks([100, 75, 50, 25, 0], ['100%', '75%', '50%', '25%', '0%'])\n",
    "plt.savefig('human_social_variables_bar_without_missing.png')\n",
    "plt.savefig('human_social_variables_bar_without_missing.pdf')\n",
    "plt.show()"
   ]
  },
  {
   "cell_type": "code",
   "execution_count": null,
   "id": "bd4ab74d",
   "metadata": {},
   "outputs": [],
   "source": []
  }
 ],
 "metadata": {
  "kernelspec": {
   "display_name": "Python 3 (ipykernel)",
   "language": "python",
   "name": "python3"
  },
  "language_info": {
   "codemirror_mode": {
    "name": "ipython",
    "version": 3
   },
   "file_extension": ".py",
   "mimetype": "text/x-python",
   "name": "python",
   "nbconvert_exporter": "python",
   "pygments_lexer": "ipython3",
   "version": "3.8.13"
  }
 },
 "nbformat": 4,
 "nbformat_minor": 5
}
